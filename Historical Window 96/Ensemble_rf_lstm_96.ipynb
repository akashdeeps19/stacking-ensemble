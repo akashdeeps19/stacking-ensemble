{
  "nbformat": 4,
  "nbformat_minor": 0,
  "metadata": {
    "colab": {
      "name": "Ensemble Learning",
      "provenance": []
    },
    "kernelspec": {
      "name": "python3",
      "display_name": "Python 3"
    }
  },
  "cells": [
    {
      "cell_type": "code",
      "metadata": {
        "id": "8niRtvWp9IDg"
      },
      "source": [
        "import pandas as pd\n",
        "url = \"https://github.com/akashdeeps19/stacking-ensemble/blob/master/dataset.csv?raw=true\"\n",
        "data = pd.read_csv(url, delimiter=';')"
      ],
      "execution_count": null,
      "outputs": []
    },
    {
      "cell_type": "code",
      "metadata": {
        "id": "vCmpm1P59UyJ",
        "colab": {
          "base_uri": "https://localhost:8080/",
          "height": 197
        },
        "outputId": "e9a6fd8c-41f5-4271-f5a5-a08f84d1e25c"
      },
      "source": [
        "# h=96\n",
        "data.head()\n",
        "\n"
      ],
      "execution_count": null,
      "outputs": [
        {
          "output_type": "execute_result",
          "data": {
            "text/html": [
              "<div>\n",
              "<style scoped>\n",
              "    .dataframe tbody tr th:only-of-type {\n",
              "        vertical-align: middle;\n",
              "    }\n",
              "\n",
              "    .dataframe tbody tr th {\n",
              "        vertical-align: top;\n",
              "    }\n",
              "\n",
              "    .dataframe thead th {\n",
              "        text-align: right;\n",
              "    }\n",
              "</style>\n",
              "<table border=\"1\" class=\"dataframe\">\n",
              "  <thead>\n",
              "    <tr style=\"text-align: right;\">\n",
              "      <th></th>\n",
              "      <th>Date</th>\n",
              "      <th>Consumption</th>\n",
              "    </tr>\n",
              "  </thead>\n",
              "  <tbody>\n",
              "    <tr>\n",
              "      <th>0</th>\n",
              "      <td>01-01-07 00:00</td>\n",
              "      <td>28667</td>\n",
              "    </tr>\n",
              "    <tr>\n",
              "      <th>1</th>\n",
              "      <td>01-01-07 00:10</td>\n",
              "      <td>28204</td>\n",
              "    </tr>\n",
              "    <tr>\n",
              "      <th>2</th>\n",
              "      <td>01-01-07 00:20</td>\n",
              "      <td>27781</td>\n",
              "    </tr>\n",
              "    <tr>\n",
              "      <th>3</th>\n",
              "      <td>01-01-07 00:30</td>\n",
              "      <td>27139</td>\n",
              "    </tr>\n",
              "    <tr>\n",
              "      <th>4</th>\n",
              "      <td>01-01-07 00:40</td>\n",
              "      <td>26687</td>\n",
              "    </tr>\n",
              "  </tbody>\n",
              "</table>\n",
              "</div>"
            ],
            "text/plain": [
              "             Date  Consumption\n",
              "0  01-01-07 00:00        28667\n",
              "1  01-01-07 00:10        28204\n",
              "2  01-01-07 00:20        27781\n",
              "3  01-01-07 00:30        27139\n",
              "4  01-01-07 00:40        26687"
            ]
          },
          "metadata": {
            "tags": []
          },
          "execution_count": 2
        }
      ]
    },
    {
      "cell_type": "code",
      "metadata": {
        "id": "nG1AW5ms96U4",
        "colab": {
          "base_uri": "https://localhost:8080/"
        },
        "outputId": "e4771d72-1ca7-4e32-b604-a1dfc90b1384"
      },
      "source": [
        "print(len(data))"
      ],
      "execution_count": null,
      "outputs": [
        {
          "output_type": "stream",
          "text": [
            "497852\n"
          ],
          "name": "stdout"
        }
      ]
    },
    {
      "cell_type": "code",
      "metadata": {
        "id": "JCfviEte-Hvo"
      },
      "source": [
        "consumption_matrix= data.Consumption.values.tolist()\n"
      ],
      "execution_count": null,
      "outputs": []
    },
    {
      "cell_type": "code",
      "metadata": {
        "id": "UTPznSND-dZ2",
        "colab": {
          "base_uri": "https://localhost:8080/"
        },
        "outputId": "b52eb0f5-5ef4-441f-b5e2-6cc7ca4445be"
      },
      "source": [
        "len(consumption_matrix)"
      ],
      "execution_count": null,
      "outputs": [
        {
          "output_type": "execute_result",
          "data": {
            "text/plain": [
              "497852"
            ]
          },
          "metadata": {
            "tags": []
          },
          "execution_count": 5
        }
      ]
    },
    {
      "cell_type": "code",
      "metadata": {
        "id": "S6HliX4N-lgN",
        "colab": {
          "base_uri": "https://localhost:8080/"
        },
        "outputId": "e7638eee-ab17-44b2-b251-88fbf9a832b2"
      },
      "source": [
        "consumption_matrix[-1]"
      ],
      "execution_count": null,
      "outputs": [
        {
          "output_type": "execute_result",
          "data": {
            "text/plain": [
              "24326"
            ]
          },
          "metadata": {
            "tags": []
          },
          "execution_count": 6
        }
      ]
    },
    {
      "cell_type": "code",
      "metadata": {
        "id": "jPG9Pazq-nXM",
        "colab": {
          "base_uri": "https://localhost:8080/",
          "height": 197
        },
        "outputId": "3378cb4e-80f0-4182-849e-af461e738028"
      },
      "source": [
        "data.tail()"
      ],
      "execution_count": null,
      "outputs": [
        {
          "output_type": "execute_result",
          "data": {
            "text/html": [
              "<div>\n",
              "<style scoped>\n",
              "    .dataframe tbody tr th:only-of-type {\n",
              "        vertical-align: middle;\n",
              "    }\n",
              "\n",
              "    .dataframe tbody tr th {\n",
              "        vertical-align: top;\n",
              "    }\n",
              "\n",
              "    .dataframe thead th {\n",
              "        text-align: right;\n",
              "    }\n",
              "</style>\n",
              "<table border=\"1\" class=\"dataframe\">\n",
              "  <thead>\n",
              "    <tr style=\"text-align: right;\">\n",
              "      <th></th>\n",
              "      <th>Date</th>\n",
              "      <th>Consumption</th>\n",
              "    </tr>\n",
              "  </thead>\n",
              "  <tbody>\n",
              "    <tr>\n",
              "      <th>497847</th>\n",
              "      <td>22-06-16 02:20</td>\n",
              "      <td>24550</td>\n",
              "    </tr>\n",
              "    <tr>\n",
              "      <th>497848</th>\n",
              "      <td>22-06-16 02:30</td>\n",
              "      <td>24228</td>\n",
              "    </tr>\n",
              "    <tr>\n",
              "      <th>497849</th>\n",
              "      <td>22-06-16 02:40</td>\n",
              "      <td>24543</td>\n",
              "    </tr>\n",
              "    <tr>\n",
              "      <th>497850</th>\n",
              "      <td>22-06-16 02:50</td>\n",
              "      <td>24239</td>\n",
              "    </tr>\n",
              "    <tr>\n",
              "      <th>497851</th>\n",
              "      <td>22-06-16 03:00</td>\n",
              "      <td>24326</td>\n",
              "    </tr>\n",
              "  </tbody>\n",
              "</table>\n",
              "</div>"
            ],
            "text/plain": [
              "                  Date  Consumption\n",
              "497847  22-06-16 02:20        24550\n",
              "497848  22-06-16 02:30        24228\n",
              "497849  22-06-16 02:40        24543\n",
              "497850  22-06-16 02:50        24239\n",
              "497851  22-06-16 03:00        24326"
            ]
          },
          "metadata": {
            "tags": []
          },
          "execution_count": 7
        }
      ]
    },
    {
      "cell_type": "code",
      "metadata": {
        "id": "8CgHazIM-qBS"
      },
      "source": [
        "x=[]\n",
        "y=[]\n",
        "w=168\n",
        "h=24\n",
        "l = len(consumption_matrix)\n",
        "for i in range(l//h): \n",
        "\n",
        "  if i*h+w<l and i*h+w+h<l:\n",
        "    x.append(consumption_matrix[i*h:i*h+w])\n",
        "    y.append(consumption_matrix[i*h+w:i*h+w+h])"
      ],
      "execution_count": null,
      "outputs": []
    },
    {
      "cell_type": "code",
      "metadata": {
        "id": "76EIPeW5_79n",
        "colab": {
          "base_uri": "https://localhost:8080/"
        },
        "outputId": "dbea7ec6-0468-40de-f912-d4431b60579d"
      },
      "source": [
        "print(len(x) , len(y))"
      ],
      "execution_count": null,
      "outputs": [
        {
          "output_type": "stream",
          "text": [
            "20736 20736\n"
          ],
          "name": "stdout"
        }
      ]
    },
    {
      "cell_type": "code",
      "metadata": {
        "id": "r7poqcQjAAb6",
        "colab": {
          "base_uri": "https://localhost:8080/"
        },
        "outputId": "5e1731be-86d6-46f1-b4a4-615ad81be9e1"
      },
      "source": [
        "print(len(x[110]) , len(y[110]))"
      ],
      "execution_count": null,
      "outputs": [
        {
          "output_type": "stream",
          "text": [
            "168 24\n"
          ],
          "name": "stdout"
        }
      ]
    },
    {
      "cell_type": "code",
      "metadata": {
        "colab": {
          "base_uri": "https://localhost:8080/",
          "height": 263
        },
        "id": "7ZashcSaNnGw",
        "outputId": "c5d5d48b-5250-4390-9fd0-8eb00fd6096d"
      },
      "source": [
        "from google.colab import files\n",
        "data_168 = [x_ + y_ for x_,y_ in zip(x,y)]\n",
        "df = pd.DataFrame(data_168)\n",
        "df.to_csv('dataset_168.csv')\n",
        "files.download('dataset_168.csv')\n",
        "df.head()"
      ],
      "execution_count": null,
      "outputs": [
        {
          "output_type": "display_data",
          "data": {
            "application/javascript": [
              "\n",
              "    async function download(id, filename, size) {\n",
              "      if (!google.colab.kernel.accessAllowed) {\n",
              "        return;\n",
              "      }\n",
              "      const div = document.createElement('div');\n",
              "      const label = document.createElement('label');\n",
              "      label.textContent = `Downloading \"${filename}\": `;\n",
              "      div.appendChild(label);\n",
              "      const progress = document.createElement('progress');\n",
              "      progress.max = size;\n",
              "      div.appendChild(progress);\n",
              "      document.body.appendChild(div);\n",
              "\n",
              "      const buffers = [];\n",
              "      let downloaded = 0;\n",
              "\n",
              "      const channel = await google.colab.kernel.comms.open(id);\n",
              "      // Send a message to notify the kernel that we're ready.\n",
              "      channel.send({})\n",
              "\n",
              "      for await (const message of channel.messages) {\n",
              "        // Send a message to notify the kernel that we're ready.\n",
              "        channel.send({})\n",
              "        if (message.buffers) {\n",
              "          for (const buffer of message.buffers) {\n",
              "            buffers.push(buffer);\n",
              "            downloaded += buffer.byteLength;\n",
              "            progress.value = downloaded;\n",
              "          }\n",
              "        }\n",
              "      }\n",
              "      const blob = new Blob(buffers, {type: 'application/binary'});\n",
              "      const a = document.createElement('a');\n",
              "      a.href = window.URL.createObjectURL(blob);\n",
              "      a.download = filename;\n",
              "      div.appendChild(a);\n",
              "      a.click();\n",
              "      div.remove();\n",
              "    }\n",
              "  "
            ],
            "text/plain": [
              "<IPython.core.display.Javascript object>"
            ]
          },
          "metadata": {
            "tags": []
          }
        },
        {
          "output_type": "display_data",
          "data": {
            "application/javascript": [
              "download(\"download_4fc6cb28-6300-41f3-89f6-e6c0cfa0debc\", \"dataset_168.csv\", 24001837)"
            ],
            "text/plain": [
              "<IPython.core.display.Javascript object>"
            ]
          },
          "metadata": {
            "tags": []
          }
        },
        {
          "output_type": "execute_result",
          "data": {
            "text/html": [
              "<div>\n",
              "<style scoped>\n",
              "    .dataframe tbody tr th:only-of-type {\n",
              "        vertical-align: middle;\n",
              "    }\n",
              "\n",
              "    .dataframe tbody tr th {\n",
              "        vertical-align: top;\n",
              "    }\n",
              "\n",
              "    .dataframe thead th {\n",
              "        text-align: right;\n",
              "    }\n",
              "</style>\n",
              "<table border=\"1\" class=\"dataframe\">\n",
              "  <thead>\n",
              "    <tr style=\"text-align: right;\">\n",
              "      <th></th>\n",
              "      <th>0</th>\n",
              "      <th>1</th>\n",
              "      <th>2</th>\n",
              "      <th>3</th>\n",
              "      <th>4</th>\n",
              "      <th>5</th>\n",
              "      <th>6</th>\n",
              "      <th>7</th>\n",
              "      <th>8</th>\n",
              "      <th>9</th>\n",
              "      <th>10</th>\n",
              "      <th>11</th>\n",
              "      <th>12</th>\n",
              "      <th>13</th>\n",
              "      <th>14</th>\n",
              "      <th>15</th>\n",
              "      <th>16</th>\n",
              "      <th>17</th>\n",
              "      <th>18</th>\n",
              "      <th>19</th>\n",
              "      <th>20</th>\n",
              "      <th>21</th>\n",
              "      <th>22</th>\n",
              "      <th>23</th>\n",
              "      <th>24</th>\n",
              "      <th>25</th>\n",
              "      <th>26</th>\n",
              "      <th>27</th>\n",
              "      <th>28</th>\n",
              "      <th>29</th>\n",
              "      <th>30</th>\n",
              "      <th>31</th>\n",
              "      <th>32</th>\n",
              "      <th>33</th>\n",
              "      <th>34</th>\n",
              "      <th>35</th>\n",
              "      <th>36</th>\n",
              "      <th>37</th>\n",
              "      <th>38</th>\n",
              "      <th>39</th>\n",
              "      <th>...</th>\n",
              "      <th>152</th>\n",
              "      <th>153</th>\n",
              "      <th>154</th>\n",
              "      <th>155</th>\n",
              "      <th>156</th>\n",
              "      <th>157</th>\n",
              "      <th>158</th>\n",
              "      <th>159</th>\n",
              "      <th>160</th>\n",
              "      <th>161</th>\n",
              "      <th>162</th>\n",
              "      <th>163</th>\n",
              "      <th>164</th>\n",
              "      <th>165</th>\n",
              "      <th>166</th>\n",
              "      <th>167</th>\n",
              "      <th>168</th>\n",
              "      <th>169</th>\n",
              "      <th>170</th>\n",
              "      <th>171</th>\n",
              "      <th>172</th>\n",
              "      <th>173</th>\n",
              "      <th>174</th>\n",
              "      <th>175</th>\n",
              "      <th>176</th>\n",
              "      <th>177</th>\n",
              "      <th>178</th>\n",
              "      <th>179</th>\n",
              "      <th>180</th>\n",
              "      <th>181</th>\n",
              "      <th>182</th>\n",
              "      <th>183</th>\n",
              "      <th>184</th>\n",
              "      <th>185</th>\n",
              "      <th>186</th>\n",
              "      <th>187</th>\n",
              "      <th>188</th>\n",
              "      <th>189</th>\n",
              "      <th>190</th>\n",
              "      <th>191</th>\n",
              "    </tr>\n",
              "  </thead>\n",
              "  <tbody>\n",
              "    <tr>\n",
              "      <th>0</th>\n",
              "      <td>28667</td>\n",
              "      <td>28204</td>\n",
              "      <td>27781</td>\n",
              "      <td>27139</td>\n",
              "      <td>26687</td>\n",
              "      <td>26333</td>\n",
              "      <td>27611</td>\n",
              "      <td>27355</td>\n",
              "      <td>27166</td>\n",
              "      <td>26848</td>\n",
              "      <td>26485</td>\n",
              "      <td>26280</td>\n",
              "      <td>25908</td>\n",
              "      <td>25577</td>\n",
              "      <td>25239</td>\n",
              "      <td>24848</td>\n",
              "      <td>24595</td>\n",
              "      <td>24276</td>\n",
              "      <td>23817</td>\n",
              "      <td>23649</td>\n",
              "      <td>23382</td>\n",
              "      <td>23084</td>\n",
              "      <td>22628</td>\n",
              "      <td>22576</td>\n",
              "      <td>22198</td>\n",
              "      <td>22091</td>\n",
              "      <td>21945</td>\n",
              "      <td>21740</td>\n",
              "      <td>21420</td>\n",
              "      <td>21217</td>\n",
              "      <td>20975</td>\n",
              "      <td>20901</td>\n",
              "      <td>20592</td>\n",
              "      <td>20814</td>\n",
              "      <td>20707</td>\n",
              "      <td>20536</td>\n",
              "      <td>20460</td>\n",
              "      <td>20323</td>\n",
              "      <td>20148</td>\n",
              "      <td>20228</td>\n",
              "      <td>...</td>\n",
              "      <td>25124</td>\n",
              "      <td>24825</td>\n",
              "      <td>24512</td>\n",
              "      <td>24284</td>\n",
              "      <td>23819</td>\n",
              "      <td>23667</td>\n",
              "      <td>23410</td>\n",
              "      <td>23250</td>\n",
              "      <td>23017</td>\n",
              "      <td>22891</td>\n",
              "      <td>22789</td>\n",
              "      <td>22514</td>\n",
              "      <td>22480</td>\n",
              "      <td>22292</td>\n",
              "      <td>22308</td>\n",
              "      <td>22202</td>\n",
              "      <td>22176</td>\n",
              "      <td>22166</td>\n",
              "      <td>21877</td>\n",
              "      <td>21877</td>\n",
              "      <td>21921</td>\n",
              "      <td>21656</td>\n",
              "      <td>21931</td>\n",
              "      <td>22094</td>\n",
              "      <td>21982</td>\n",
              "      <td>22140</td>\n",
              "      <td>22283</td>\n",
              "      <td>22477</td>\n",
              "      <td>23000</td>\n",
              "      <td>24043</td>\n",
              "      <td>24426</td>\n",
              "      <td>24872</td>\n",
              "      <td>25374</td>\n",
              "      <td>25756</td>\n",
              "      <td>26260</td>\n",
              "      <td>27177</td>\n",
              "      <td>27518</td>\n",
              "      <td>27902</td>\n",
              "      <td>28490</td>\n",
              "      <td>29191</td>\n",
              "    </tr>\n",
              "    <tr>\n",
              "      <th>1</th>\n",
              "      <td>22198</td>\n",
              "      <td>22091</td>\n",
              "      <td>21945</td>\n",
              "      <td>21740</td>\n",
              "      <td>21420</td>\n",
              "      <td>21217</td>\n",
              "      <td>20975</td>\n",
              "      <td>20901</td>\n",
              "      <td>20592</td>\n",
              "      <td>20814</td>\n",
              "      <td>20707</td>\n",
              "      <td>20536</td>\n",
              "      <td>20460</td>\n",
              "      <td>20323</td>\n",
              "      <td>20148</td>\n",
              "      <td>20228</td>\n",
              "      <td>20023</td>\n",
              "      <td>19911</td>\n",
              "      <td>19555</td>\n",
              "      <td>19302</td>\n",
              "      <td>19122</td>\n",
              "      <td>19047</td>\n",
              "      <td>19138</td>\n",
              "      <td>19104</td>\n",
              "      <td>19113</td>\n",
              "      <td>19095</td>\n",
              "      <td>18986</td>\n",
              "      <td>18608</td>\n",
              "      <td>18348</td>\n",
              "      <td>18184</td>\n",
              "      <td>18170</td>\n",
              "      <td>18369</td>\n",
              "      <td>18506</td>\n",
              "      <td>18677</td>\n",
              "      <td>18902</td>\n",
              "      <td>19176</td>\n",
              "      <td>19388</td>\n",
              "      <td>19766</td>\n",
              "      <td>19964</td>\n",
              "      <td>20227</td>\n",
              "      <td>...</td>\n",
              "      <td>21982</td>\n",
              "      <td>22140</td>\n",
              "      <td>22283</td>\n",
              "      <td>22477</td>\n",
              "      <td>23000</td>\n",
              "      <td>24043</td>\n",
              "      <td>24426</td>\n",
              "      <td>24872</td>\n",
              "      <td>25374</td>\n",
              "      <td>25756</td>\n",
              "      <td>26260</td>\n",
              "      <td>27177</td>\n",
              "      <td>27518</td>\n",
              "      <td>27902</td>\n",
              "      <td>28490</td>\n",
              "      <td>29191</td>\n",
              "      <td>29358</td>\n",
              "      <td>31027</td>\n",
              "      <td>31593</td>\n",
              "      <td>31469</td>\n",
              "      <td>31660</td>\n",
              "      <td>32221</td>\n",
              "      <td>32357</td>\n",
              "      <td>33081</td>\n",
              "      <td>33357</td>\n",
              "      <td>33699</td>\n",
              "      <td>34032</td>\n",
              "      <td>34746</td>\n",
              "      <td>34958</td>\n",
              "      <td>35447</td>\n",
              "      <td>35516</td>\n",
              "      <td>35654</td>\n",
              "      <td>35586</td>\n",
              "      <td>36191</td>\n",
              "      <td>35740</td>\n",
              "      <td>36005</td>\n",
              "      <td>36042</td>\n",
              "      <td>35963</td>\n",
              "      <td>36287</td>\n",
              "      <td>36063</td>\n",
              "    </tr>\n",
              "    <tr>\n",
              "      <th>2</th>\n",
              "      <td>19113</td>\n",
              "      <td>19095</td>\n",
              "      <td>18986</td>\n",
              "      <td>18608</td>\n",
              "      <td>18348</td>\n",
              "      <td>18184</td>\n",
              "      <td>18170</td>\n",
              "      <td>18369</td>\n",
              "      <td>18506</td>\n",
              "      <td>18677</td>\n",
              "      <td>18902</td>\n",
              "      <td>19176</td>\n",
              "      <td>19388</td>\n",
              "      <td>19766</td>\n",
              "      <td>19964</td>\n",
              "      <td>20227</td>\n",
              "      <td>20456</td>\n",
              "      <td>20756</td>\n",
              "      <td>21105</td>\n",
              "      <td>21251</td>\n",
              "      <td>21177</td>\n",
              "      <td>21410</td>\n",
              "      <td>21634</td>\n",
              "      <td>21843</td>\n",
              "      <td>21984</td>\n",
              "      <td>22228</td>\n",
              "      <td>22407</td>\n",
              "      <td>22517</td>\n",
              "      <td>22592</td>\n",
              "      <td>22843</td>\n",
              "      <td>23049</td>\n",
              "      <td>23108</td>\n",
              "      <td>23240</td>\n",
              "      <td>23376</td>\n",
              "      <td>23510</td>\n",
              "      <td>23622</td>\n",
              "      <td>23694</td>\n",
              "      <td>23813</td>\n",
              "      <td>23734</td>\n",
              "      <td>23722</td>\n",
              "      <td>...</td>\n",
              "      <td>33357</td>\n",
              "      <td>33699</td>\n",
              "      <td>34032</td>\n",
              "      <td>34746</td>\n",
              "      <td>34958</td>\n",
              "      <td>35447</td>\n",
              "      <td>35516</td>\n",
              "      <td>35654</td>\n",
              "      <td>35586</td>\n",
              "      <td>36191</td>\n",
              "      <td>35740</td>\n",
              "      <td>36005</td>\n",
              "      <td>36042</td>\n",
              "      <td>35963</td>\n",
              "      <td>36287</td>\n",
              "      <td>36063</td>\n",
              "      <td>35805</td>\n",
              "      <td>35941</td>\n",
              "      <td>35793</td>\n",
              "      <td>35919</td>\n",
              "      <td>35988</td>\n",
              "      <td>35896</td>\n",
              "      <td>35361</td>\n",
              "      <td>35551</td>\n",
              "      <td>35374</td>\n",
              "      <td>35234</td>\n",
              "      <td>34684</td>\n",
              "      <td>34325</td>\n",
              "      <td>34153</td>\n",
              "      <td>33649</td>\n",
              "      <td>33299</td>\n",
              "      <td>33465</td>\n",
              "      <td>33081</td>\n",
              "      <td>32933</td>\n",
              "      <td>32807</td>\n",
              "      <td>32715</td>\n",
              "      <td>32875</td>\n",
              "      <td>32672</td>\n",
              "      <td>32900</td>\n",
              "      <td>32828</td>\n",
              "    </tr>\n",
              "    <tr>\n",
              "      <th>3</th>\n",
              "      <td>21984</td>\n",
              "      <td>22228</td>\n",
              "      <td>22407</td>\n",
              "      <td>22517</td>\n",
              "      <td>22592</td>\n",
              "      <td>22843</td>\n",
              "      <td>23049</td>\n",
              "      <td>23108</td>\n",
              "      <td>23240</td>\n",
              "      <td>23376</td>\n",
              "      <td>23510</td>\n",
              "      <td>23622</td>\n",
              "      <td>23694</td>\n",
              "      <td>23813</td>\n",
              "      <td>23734</td>\n",
              "      <td>23722</td>\n",
              "      <td>23447</td>\n",
              "      <td>23180</td>\n",
              "      <td>22997</td>\n",
              "      <td>22819</td>\n",
              "      <td>22575</td>\n",
              "      <td>22416</td>\n",
              "      <td>22366</td>\n",
              "      <td>22232</td>\n",
              "      <td>22291</td>\n",
              "      <td>22271</td>\n",
              "      <td>22303</td>\n",
              "      <td>22217</td>\n",
              "      <td>22340</td>\n",
              "      <td>22434</td>\n",
              "      <td>22653</td>\n",
              "      <td>22857</td>\n",
              "      <td>22855</td>\n",
              "      <td>23123</td>\n",
              "      <td>23390</td>\n",
              "      <td>23844</td>\n",
              "      <td>24749</td>\n",
              "      <td>25575</td>\n",
              "      <td>26365</td>\n",
              "      <td>27007</td>\n",
              "      <td>...</td>\n",
              "      <td>35374</td>\n",
              "      <td>35234</td>\n",
              "      <td>34684</td>\n",
              "      <td>34325</td>\n",
              "      <td>34153</td>\n",
              "      <td>33649</td>\n",
              "      <td>33299</td>\n",
              "      <td>33465</td>\n",
              "      <td>33081</td>\n",
              "      <td>32933</td>\n",
              "      <td>32807</td>\n",
              "      <td>32715</td>\n",
              "      <td>32875</td>\n",
              "      <td>32672</td>\n",
              "      <td>32900</td>\n",
              "      <td>32828</td>\n",
              "      <td>32562</td>\n",
              "      <td>32896</td>\n",
              "      <td>32926</td>\n",
              "      <td>33004</td>\n",
              "      <td>33149</td>\n",
              "      <td>33020</td>\n",
              "      <td>33128</td>\n",
              "      <td>33524</td>\n",
              "      <td>33711</td>\n",
              "      <td>33847</td>\n",
              "      <td>34151</td>\n",
              "      <td>34675</td>\n",
              "      <td>35595</td>\n",
              "      <td>36332</td>\n",
              "      <td>36893</td>\n",
              "      <td>37413</td>\n",
              "      <td>37621</td>\n",
              "      <td>37733</td>\n",
              "      <td>37599</td>\n",
              "      <td>37501</td>\n",
              "      <td>37385</td>\n",
              "      <td>37287</td>\n",
              "      <td>37331</td>\n",
              "      <td>37086</td>\n",
              "    </tr>\n",
              "    <tr>\n",
              "      <th>4</th>\n",
              "      <td>22291</td>\n",
              "      <td>22271</td>\n",
              "      <td>22303</td>\n",
              "      <td>22217</td>\n",
              "      <td>22340</td>\n",
              "      <td>22434</td>\n",
              "      <td>22653</td>\n",
              "      <td>22857</td>\n",
              "      <td>22855</td>\n",
              "      <td>23123</td>\n",
              "      <td>23390</td>\n",
              "      <td>23844</td>\n",
              "      <td>24749</td>\n",
              "      <td>25575</td>\n",
              "      <td>26365</td>\n",
              "      <td>27007</td>\n",
              "      <td>27504</td>\n",
              "      <td>27887</td>\n",
              "      <td>27906</td>\n",
              "      <td>28141</td>\n",
              "      <td>28329</td>\n",
              "      <td>28536</td>\n",
              "      <td>28786</td>\n",
              "      <td>28952</td>\n",
              "      <td>28978</td>\n",
              "      <td>29330</td>\n",
              "      <td>29546</td>\n",
              "      <td>29658</td>\n",
              "      <td>30146</td>\n",
              "      <td>30451</td>\n",
              "      <td>30398</td>\n",
              "      <td>30566</td>\n",
              "      <td>30711</td>\n",
              "      <td>30590</td>\n",
              "      <td>30722</td>\n",
              "      <td>30581</td>\n",
              "      <td>30329</td>\n",
              "      <td>30134</td>\n",
              "      <td>30023</td>\n",
              "      <td>29623</td>\n",
              "      <td>...</td>\n",
              "      <td>33711</td>\n",
              "      <td>33847</td>\n",
              "      <td>34151</td>\n",
              "      <td>34675</td>\n",
              "      <td>35595</td>\n",
              "      <td>36332</td>\n",
              "      <td>36893</td>\n",
              "      <td>37413</td>\n",
              "      <td>37621</td>\n",
              "      <td>37733</td>\n",
              "      <td>37599</td>\n",
              "      <td>37501</td>\n",
              "      <td>37385</td>\n",
              "      <td>37287</td>\n",
              "      <td>37331</td>\n",
              "      <td>37086</td>\n",
              "      <td>37075</td>\n",
              "      <td>36995</td>\n",
              "      <td>36888</td>\n",
              "      <td>36798</td>\n",
              "      <td>36881</td>\n",
              "      <td>36748</td>\n",
              "      <td>36815</td>\n",
              "      <td>37104</td>\n",
              "      <td>36868</td>\n",
              "      <td>36745</td>\n",
              "      <td>36510</td>\n",
              "      <td>35928</td>\n",
              "      <td>35374</td>\n",
              "      <td>34872</td>\n",
              "      <td>34608</td>\n",
              "      <td>34415</td>\n",
              "      <td>34366</td>\n",
              "      <td>34372</td>\n",
              "      <td>34358</td>\n",
              "      <td>34704</td>\n",
              "      <td>34911</td>\n",
              "      <td>34351</td>\n",
              "      <td>34008</td>\n",
              "      <td>33765</td>\n",
              "    </tr>\n",
              "  </tbody>\n",
              "</table>\n",
              "<p>5 rows × 192 columns</p>\n",
              "</div>"
            ],
            "text/plain": [
              "     0      1      2      3      4    ...    187    188    189    190    191\n",
              "0  28667  28204  27781  27139  26687  ...  27177  27518  27902  28490  29191\n",
              "1  22198  22091  21945  21740  21420  ...  36005  36042  35963  36287  36063\n",
              "2  19113  19095  18986  18608  18348  ...  32715  32875  32672  32900  32828\n",
              "3  21984  22228  22407  22517  22592  ...  37501  37385  37287  37331  37086\n",
              "4  22291  22271  22303  22217  22340  ...  34704  34911  34351  34008  33765\n",
              "\n",
              "[5 rows x 192 columns]"
            ]
          },
          "metadata": {
            "tags": []
          },
          "execution_count": 11
        }
      ]
    },
    {
      "cell_type": "code",
      "metadata": {
        "id": "M5RVZ_4DAGy_",
        "colab": {
          "base_uri": "https://localhost:8080/",
          "height": 278
        },
        "outputId": "8eb62111-0bf1-44a1-e17e-b61fe334034f"
      },
      "source": [
        "import matplotlib.pyplot as plt\n",
        "plt.plot(consumption_matrix)\n",
        "plt.xlabel(\"Time\")\n",
        "plt.ylabel(\"Electricity Consumption\")\n",
        "plt.title(\"Dataset\")\n",
        "# plt.set_ticklabels([])\n",
        "plt.tick_params(\n",
        "    axis='x',          # changes apply to the x-axis\n",
        "    which='both',      # both major and minor ticks are affected\n",
        "    bottom=False,      # ticks along the bottom edge are off\n",
        "    top=False,         # ticks along the top edge are off\n",
        "    labelbottom=False)\n",
        "plt.tick_params(\n",
        "    axis='y',          # changes apply to the x-axis\n",
        "    which='both',      # both major and minor ticks are affected\n",
        "    left=False,      # ticks along the bottom edge are off\n",
        "    right=False,         # ticks along the top edge are off\n",
        "    labelleft=False)\n",
        "plt.show()"
      ],
      "execution_count": null,
      "outputs": [
        {
          "output_type": "display_data",
          "data": {
            "image/png": "[encoded data removed]",
            "text/plain": [
              "<Figure size 432x288 with 1 Axes>"
            ]
          },
          "metadata": {
            "tags": []
          }
        }
      ]
    },
    {
      "cell_type": "code",
      "metadata": {
        "colab": {
          "base_uri": "https://localhost:8080/"
        },
        "id": "24fxPSp18SIc",
        "outputId": "362c10bc-3a6c-4782-f3ef-d41f453ac932"
      },
      "source": [
        "from pandas import read_csv\n",
        "from statsmodels.tsa.stattools import adfuller\n",
        "\n",
        "# l1= consumption_matrix[1000:2000]\n",
        "# l1.extend(consumption_matrix[2000:3000])\n",
        "X = consumption_matrix[:100000]\n",
        "result = adfuller(X)\n",
        "print('ADF Statistic: %f' % result[0])\n",
        "print('p-value: %f' % result[1])\n",
        "print('Critical Values:')\n",
        "for key, value in result[4].items():\n",
        "\tprint('\\t%s: %.3f' % (key, value))"
      ],
      "execution_count": null,
      "outputs": [
        {
          "output_type": "stream",
          "text": [
            "/usr/local/lib/python3.7/dist-packages/statsmodels/tools/_testing.py:19: FutureWarning: pandas.util.testing is deprecated. Use the functions in the public API at pandas.testing instead.\n",
            "  import pandas.util.testing as tm\n"
          ],
          "name": "stderr"
        },
        {
          "output_type": "stream",
          "text": [
            "ADF Statistic: -31.464335\n",
            "p-value: 0.000000\n",
            "Critical Values:\n",
            "\t1%: -3.430\n",
            "\t5%: -2.862\n",
            "\t10%: -2.567\n"
          ],
          "name": "stdout"
        }
      ]
    },
    {
      "cell_type": "code",
      "metadata": {
        "colab": {
          "base_uri": "https://localhost:8080/",
          "height": 278
        },
        "id": "Opwg0XiqIxDk",
        "outputId": "4d6ee74a-d798-4a61-c925-c15f3e8deef3"
      },
      "source": [
        "stationarised_cm = [consumption_matrix[i+1]-consumption_matrix[i] for i in range(len(consumption_matrix)-1)]\n",
        "plt.plot(stationarised_cm)\n",
        "plt.xlabel(\"Time\")\n",
        "plt.ylabel(\"Electricity Consumption\")\n",
        "plt.title(\"Stationarised Dataset\")\n",
        "# plt.set_ticklabels([])\n",
        "plt.tick_params(\n",
        "    axis='x',          # changes apply to the x-axis\n",
        "    which='both',      # both major and minor ticks are affected\n",
        "    bottom=False,      # ticks along the bottom edge are off\n",
        "    top=False,         # ticks along the top edge are off\n",
        "    labelbottom=False)\n",
        "plt.tick_params(\n",
        "    axis='y',          # changes apply to the x-axis\n",
        "    which='both',      # both major and minor ticks are affected\n",
        "    left=False,      # ticks along the bottom edge are off\n",
        "    right=False,         # ticks along the top edge are off\n",
        "    labelleft=False)\n",
        "plt.show()\n",
        "plt.show()"
      ],
      "execution_count": null,
      "outputs": [
        {
          "output_type": "display_data",
          "data": {
            "image/png": "[encoded data removed]",
            "text/plain": [
              "<Figure size 432x288 with 1 Axes>"
            ]
          },
          "metadata": {
            "tags": []
          }
        }
      ]
    },
    {
      "cell_type": "code",
      "metadata": {
        "colab": {
          "base_uri": "https://localhost:8080/"
        },
        "id": "B3cEljAU30-S",
        "outputId": "a06053bc-ca17-4931-d1d5-efe6e5e1dc0d"
      },
      "source": [
        "from pandas import read_csv\n",
        "from statsmodels.tsa.stattools import adfuller\n",
        "\n",
        "# l1= consumption_matrix[1000:2000]\n",
        "# l1.extend(consumption_matrix[2000:3000])\n",
        "X = stationarised_cm\n",
        "result = adfuller(X[:100000])\n",
        "print('ADF Statistic: %f' % result[0])\n",
        "print('p-value: %f' % result[1])\n",
        "print('Critical Values:')\n",
        "for key, value in result[4].items():\n",
        "\tprint('\\t%s: %.3f' % (key, value))"
      ],
      "execution_count": null,
      "outputs": [
        {
          "output_type": "stream",
          "text": [
            "ADF Statistic: -43.828337\n",
            "p-value: 0.000000\n",
            "Critical Values:\n",
            "\t1%: -3.430\n",
            "\t5%: -2.862\n",
            "\t10%: -2.567\n"
          ],
          "name": "stdout"
        }
      ]
    },
    {
      "cell_type": "code",
      "metadata": {
        "colab": {
          "base_uri": "https://localhost:8080/",
          "height": 278
        },
        "id": "5zzLF-xA65cq",
        "outputId": "b683656f-67ec-4d23-b710-eaa6bc3e6197"
      },
      "source": [
        "stationarised_cm2 = [stationarised_cm[i+1]-stationarised_cm[i] for i in range(len(stationarised_cm)-1)]\n",
        "plt.plot(stationarised_cm2)\n",
        "plt.xlabel(\"Time\")\n",
        "plt.ylabel(\"Electricity Consumption\")\n",
        "plt.title(\"Stationarised Dataset with 2 levels\")\n",
        "# plt.set_ticklabels([])\n",
        "plt.tick_params(\n",
        "    axis='x',          # changes apply to the x-axis\n",
        "    which='both',      # both major and minor ticks are affected\n",
        "    bottom=False,      # ticks along the bottom edge are off\n",
        "    top=False,         # ticks along the top edge are off\n",
        "    labelbottom=False)\n",
        "plt.tick_params(\n",
        "    axis='y',          # changes apply to the x-axis\n",
        "    which='both',      # both major and minor ticks are affected\n",
        "    left=False,      # ticks along the bottom edge are off\n",
        "    right=False,         # ticks along the top edge are off\n",
        "    labelleft=False)\n",
        "plt.show()\n",
        "plt.show()"
      ],
      "execution_count": null,
      "outputs": [
        {
          "output_type": "display_data",
          "data": {
            "image/png": "[encoded data removed]",
            "text/plain": [
              "<Figure size 432x288 with 1 Axes>"
            ]
          },
          "metadata": {
            "tags": []
          }
        }
      ]
    },
    {
      "cell_type": "code",
      "metadata": {
        "colab": {
          "base_uri": "https://localhost:8080/"
        },
        "id": "UjDzlMbW7P-H",
        "outputId": "2c45d09e-ccb7-4bcc-b0cc-6274efaf6c25"
      },
      "source": [
        "from pandas import read_csv\n",
        "from statsmodels.tsa.stattools import adfuller\n",
        "\n",
        "# l1= consumption_matrix[1000:2000]\n",
        "# l1.extend(consumption_matrix[2000:3000])\n",
        "X = stationarised_cm2\n",
        "result = adfuller(X[:100000])\n",
        "print('ADF Statistic: %f' % result[0])\n",
        "print('p-value: %f' % result[1])\n",
        "print('Critical Values:')\n",
        "for key, value in result[4].items():\n",
        "\tprint('\\t%s: %.3f' % (key, value))"
      ],
      "execution_count": null,
      "outputs": [
        {
          "output_type": "stream",
          "text": [
            "ADF Statistic: -68.238505\n",
            "p-value: 0.000000\n",
            "Critical Values:\n",
            "\t1%: -3.430\n",
            "\t5%: -2.862\n",
            "\t10%: -2.567\n"
          ],
          "name": "stdout"
        }
      ]
    },
    {
      "cell_type": "code",
      "metadata": {
        "id": "he25KoWVB4nF"
      },
      "source": [
        "train_len = int(0.7 * len(x))\n",
        "# print(train_len)\n",
        "x_train = x[:train_len]\n",
        "x_test = x[train_len:]\n",
        "\n",
        "y_train = y[:train_len]\n",
        "y_test = y[train_len:]\n"
      ],
      "execution_count": null,
      "outputs": []
    },
    {
      "cell_type": "code",
      "metadata": {
        "id": "TAENNgY0CSuu",
        "colab": {
          "base_uri": "https://localhost:8080/"
        },
        "outputId": "e6fa6519-d5a0-409d-95ca-c5f5af2a95b2"
      },
      "source": [
        "print(len(x_train) , len(x_test) , len(y_train) , len(y_test))"
      ],
      "execution_count": null,
      "outputs": [
        {
          "output_type": "stream",
          "text": [
            "14517 6222 14517 6222\n"
          ],
          "name": "stdout"
        }
      ]
    },
    {
      "cell_type": "code",
      "metadata": {
        "id": "idd0XI9YDkev",
        "colab": {
          "base_uri": "https://localhost:8080/"
        },
        "outputId": "2ec22cef-8bc9-4766-ea9b-7806ff163114"
      },
      "source": [
        "import numpy as np\n",
        "y_train = np.array(y_train)\n",
        "y_test= np.array(y_test)\n",
        "len(y_train[:,0])"
      ],
      "execution_count": null,
      "outputs": [
        {
          "output_type": "execute_result",
          "data": {
            "text/plain": [
              "14517"
            ]
          },
          "metadata": {
            "tags": []
          },
          "execution_count": 15
        }
      ]
    },
    {
      "cell_type": "code",
      "metadata": {
        "id": "3WcGF_6ENDoY",
        "colab": {
          "base_uri": "https://localhost:8080/"
        },
        "outputId": "3a94713e-ac30-4171-e17d-7d07ea16daa8"
      },
      "source": [
        "from sklearn.ensemble import RandomForestRegressor\n",
        "random_forest = RandomForestRegressor(n_estimators=100 , max_leaf_nodes = 100)\n",
        "random_forest"
      ],
      "execution_count": null,
      "outputs": [
        {
          "output_type": "execute_result",
          "data": {
            "text/plain": [
              "RandomForestRegressor(bootstrap=True, ccp_alpha=0.0, criterion='mse',\n",
              "                      max_depth=None, max_features='auto', max_leaf_nodes=100,\n",
              "                      max_samples=None, min_impurity_decrease=0.0,\n",
              "                      min_impurity_split=None, min_samples_leaf=1,\n",
              "                      min_samples_split=2, min_weight_fraction_leaf=0.0,\n",
              "                      n_estimators=100, n_jobs=None, oob_score=False,\n",
              "                      random_state=None, verbose=0, warm_start=False)"
            ]
          },
          "metadata": {
            "tags": []
          },
          "execution_count": 39
        }
      ]
    },
    {
      "cell_type": "code",
      "metadata": {
        "id": "vgZDZkyvAk64",
        "colab": {
          "base_uri": "https://localhost:8080/"
        },
        "outputId": "40f42199-f0be-47d9-a4e7-4c287e691a80"
      },
      "source": [
        "import sklearn\n",
        "from sklearn.ensemble import RandomForestRegressor\n",
        "import time\n",
        "random_forest_models=[]\n",
        "\n",
        "predictions=[]\n",
        "actual = []\n",
        "for i in range(24):\n",
        "  start_time_h=time.time()\n",
        "  print(i)\n",
        "  random_forest = RandomForestRegressor(n_estimators=100 , max_leaf_nodes = 100)\n",
        "  random_forest.fit(x_train,y_train[:,i])\n",
        "  predictions.extend(random_forest.predict(x_train))\n",
        "  predictions.extend(random_forest.predict(x_test))\n",
        "  actual.extend(y_train[:,i])\n",
        "  actual.extend(y_test[:,i])\n",
        "\n",
        "  print(\"This h took \" , time.time()-start_time_h)\n",
        "\n",
        "\n",
        "  \n",
        "\n",
        "\n",
        "\n"
      ],
      "execution_count": null,
      "outputs": [
        {
          "output_type": "stream",
          "text": [
            "0\n",
            "This h took  58.09299564361572\n",
            "1\n",
            "This h took  57.852283239364624\n",
            "2\n",
            "This h took  58.37361407279968\n",
            "3\n",
            "This h took  58.49835801124573\n",
            "4\n",
            "This h took  59.110328674316406\n",
            "5\n",
            "This h took  59.680607318878174\n",
            "6\n",
            "This h took  60.14938735961914\n",
            "7\n",
            "This h took  60.07367396354675\n",
            "8\n",
            "This h took  60.96028733253479\n",
            "9\n",
            "This h took  61.654287815093994\n",
            "10\n",
            "This h took  62.28491520881653\n",
            "11\n",
            "This h took  62.6940438747406\n",
            "12\n",
            "This h took  62.47687578201294\n",
            "13\n",
            "This h took  62.65579390525818\n",
            "14\n",
            "This h took  63.25352358818054\n",
            "15\n",
            "This h took  63.37746238708496\n",
            "16\n",
            "This h took  63.4011754989624\n",
            "17\n",
            "This h took  63.499491453170776\n",
            "18\n",
            "This h took  63.20751881599426\n",
            "19\n",
            "This h took  63.603270530700684\n",
            "20\n",
            "This h took  64.29012441635132\n",
            "21\n",
            "This h took  64.3495466709137\n",
            "22\n",
            "This h took  65.4039511680603\n",
            "23\n",
            "This h took  63.73010730743408\n"
          ],
          "name": "stdout"
        }
      ]
    },
    {
      "cell_type": "code",
      "metadata": {
        "id": "2tsfy3mfDWkO",
        "colab": {
          "base_uri": "https://localhost:8080/"
        },
        "outputId": "ede09332-8411-486e-ec6f-a08610495dc4"
      },
      "source": [
        "print(len(predictions) , len(actual))"
      ],
      "execution_count": null,
      "outputs": [
        {
          "output_type": "stream",
          "text": [
            "497736 497736\n"
          ],
          "name": "stdout"
        }
      ]
    },
    {
      "cell_type": "code",
      "metadata": {
        "colab": {
          "base_uri": "https://localhost:8080/",
          "height": 185
        },
        "id": "SUmbeO01gyXf",
        "outputId": "c1f8b633-c3c5-4798-c92f-1de535713edb"
      },
      "source": [
        "from google.colab import files\n",
        "h=24\n",
        "# predictions = l\n",
        "predictions = np.array(predictions)\n",
        "predictions = predictions.reshape(h,-1)\n",
        "df = pd.DataFrame(predictions.T)\n",
        "print(df.shape)\n",
        "print(df.head())\n",
        "df.to_csv('RF_output_96.csv')\n",
        "files.download('RF_output_96.csv')"
      ],
      "execution_count": null,
      "outputs": [
        {
          "output_type": "stream",
          "text": [
            "(20739, 24)\n",
            "             0             1   ...            22            23\n",
            "0  22238.612509  22217.977091  ...  24125.968022  24786.628309\n",
            "1  29094.055833  28930.262128  ...  27326.386103  27861.748274\n",
            "2  29197.837535  29064.955438  ...  23990.693567  24035.743558\n",
            "3  22218.305588  22153.292286  ...  26508.416708  28909.576583\n",
            "4  29574.046563  30533.796908  ...  34088.352850  35424.670103\n",
            "\n",
            "[5 rows x 24 columns]\n"
          ],
          "name": "stdout"
        },
        {
          "output_type": "display_data",
          "data": {
            "application/javascript": [
              "\n",
              "    async function download(id, filename, size) {\n",
              "      if (!google.colab.kernel.accessAllowed) {\n",
              "        return;\n",
              "      }\n",
              "      const div = document.createElement('div');\n",
              "      const label = document.createElement('label');\n",
              "      label.textContent = `Downloading \"${filename}\": `;\n",
              "      div.appendChild(label);\n",
              "      const progress = document.createElement('progress');\n",
              "      progress.max = size;\n",
              "      div.appendChild(progress);\n",
              "      document.body.appendChild(div);\n",
              "\n",
              "      const buffers = [];\n",
              "      let downloaded = 0;\n",
              "\n",
              "      const channel = await google.colab.kernel.comms.open(id);\n",
              "      // Send a message to notify the kernel that we're ready.\n",
              "      channel.send({})\n",
              "\n",
              "      for await (const message of channel.messages) {\n",
              "        // Send a message to notify the kernel that we're ready.\n",
              "        channel.send({})\n",
              "        if (message.buffers) {\n",
              "          for (const buffer of message.buffers) {\n",
              "            buffers.push(buffer);\n",
              "            downloaded += buffer.byteLength;\n",
              "            progress.value = downloaded;\n",
              "          }\n",
              "        }\n",
              "      }\n",
              "      const blob = new Blob(buffers, {type: 'application/binary'});\n",
              "      const a = document.createElement('a');\n",
              "      a.href = window.URL.createObjectURL(blob);\n",
              "      a.download = filename;\n",
              "      div.appendChild(a);\n",
              "      a.click();\n",
              "      div.remove();\n",
              "    }\n",
              "  "
            ],
            "text/plain": [
              "<IPython.core.display.Javascript object>"
            ]
          },
          "metadata": {
            "tags": []
          }
        },
        {
          "output_type": "display_data",
          "data": {
            "application/javascript": [
              "download(\"download_e4ab887e-645c-40d0-b07a-2d188bc5f9d6\", \"RF_output_96.csv\", 9320064)"
            ],
            "text/plain": [
              "<IPython.core.display.Javascript object>"
            ]
          },
          "metadata": {
            "tags": []
          }
        }
      ]
    },
    {
      "cell_type": "code",
      "metadata": {
        "id": "IXZ2qMt8N6Nj"
      },
      "source": [
        "rf_url = 'https://raw.githubusercontent.com/akashdeeps19/stacking-ensemble/master/random_forest_96.csv'\n",
        "preds = pd.read_csv(rf_url)\n",
        "preds = preds['0'].values.tolist()"
      ],
      "execution_count": null,
      "outputs": []
    },
    {
      "cell_type": "code",
      "metadata": {
        "id": "7G3cuPJ9M-Fp"
      },
      "source": [
        "def mre(actual, pred):\n",
        "    ans = 0\n",
        "    for y, y_hat in zip(actual, pred):\n",
        "        ans += abs(y - y_hat)/y\n",
        "    return ans/len(actual)"
      ],
      "execution_count": null,
      "outputs": []
    },
    {
      "cell_type": "code",
      "metadata": {
        "colab": {
          "base_uri": "https://localhost:8080/",
          "height": 346
        },
        "id": "sJlv8TocO8gh",
        "outputId": "31ede8a7-d8e3-47d2-a0f1-3d846800f7d2"
      },
      "source": [
        "avg = 0\n",
        "for i in range(24):\n",
        "    pred = [preds[j] for j in range(i*y_test.shape[0], (i+1)*y_test.shape[0])]\n",
        "    actual = y_test[:,i].tolist()\n",
        "    avg += mre(actual,pred)\n",
        "avg/24"
      ],
      "execution_count": null,
      "outputs": [
        {
          "output_type": "error",
          "ename": "NameError",
          "evalue": "ignored",
          "traceback": [
            "\u001b[0;31m---------------------------------------------------------------------------\u001b[0m",
            "\u001b[0;31mNameError\u001b[0m                                 Traceback (most recent call last)",
            "\u001b[0;32m<ipython-input-18-2c27a5a5e3a6>\u001b[0m in \u001b[0;36m<module>\u001b[0;34m()\u001b[0m\n\u001b[1;32m      1\u001b[0m \u001b[0mavg\u001b[0m \u001b[0;34m=\u001b[0m \u001b[0;36m0\u001b[0m\u001b[0;34m\u001b[0m\u001b[0;34m\u001b[0m\u001b[0m\n\u001b[1;32m      2\u001b[0m \u001b[0;32mfor\u001b[0m \u001b[0mi\u001b[0m \u001b[0;32min\u001b[0m \u001b[0mrange\u001b[0m\u001b[0;34m(\u001b[0m\u001b[0;36m24\u001b[0m\u001b[0;34m)\u001b[0m\u001b[0;34m:\u001b[0m\u001b[0;34m\u001b[0m\u001b[0;34m\u001b[0m\u001b[0m\n\u001b[0;32m----> 3\u001b[0;31m     \u001b[0mpred\u001b[0m \u001b[0;34m=\u001b[0m \u001b[0;34m[\u001b[0m\u001b[0mpreds\u001b[0m\u001b[0;34m[\u001b[0m\u001b[0mj\u001b[0m\u001b[0;34m]\u001b[0m \u001b[0;32mfor\u001b[0m \u001b[0mj\u001b[0m \u001b[0;32min\u001b[0m \u001b[0mrange\u001b[0m\u001b[0;34m(\u001b[0m\u001b[0mi\u001b[0m\u001b[0;34m*\u001b[0m\u001b[0my_test\u001b[0m\u001b[0;34m.\u001b[0m\u001b[0mshape\u001b[0m\u001b[0;34m[\u001b[0m\u001b[0;36m0\u001b[0m\u001b[0;34m]\u001b[0m\u001b[0;34m,\u001b[0m \u001b[0;34m(\u001b[0m\u001b[0mi\u001b[0m\u001b[0;34m+\u001b[0m\u001b[0;36m1\u001b[0m\u001b[0;34m)\u001b[0m\u001b[0;34m*\u001b[0m\u001b[0my_test\u001b[0m\u001b[0;34m.\u001b[0m\u001b[0mshape\u001b[0m\u001b[0;34m[\u001b[0m\u001b[0;36m0\u001b[0m\u001b[0;34m]\u001b[0m\u001b[0;34m)\u001b[0m\u001b[0;34m]\u001b[0m\u001b[0;34m\u001b[0m\u001b[0;34m\u001b[0m\u001b[0m\n\u001b[0m\u001b[1;32m      4\u001b[0m     \u001b[0mactual\u001b[0m \u001b[0;34m=\u001b[0m \u001b[0my_test\u001b[0m\u001b[0;34m[\u001b[0m\u001b[0;34m:\u001b[0m\u001b[0;34m,\u001b[0m\u001b[0mi\u001b[0m\u001b[0;34m]\u001b[0m\u001b[0;34m.\u001b[0m\u001b[0mtolist\u001b[0m\u001b[0;34m(\u001b[0m\u001b[0;34m)\u001b[0m\u001b[0;34m\u001b[0m\u001b[0;34m\u001b[0m\u001b[0m\n\u001b[1;32m      5\u001b[0m     \u001b[0mavg\u001b[0m \u001b[0;34m+=\u001b[0m \u001b[0mmre\u001b[0m\u001b[0;34m(\u001b[0m\u001b[0mactual\u001b[0m\u001b[0;34m,\u001b[0m\u001b[0mpred\u001b[0m\u001b[0;34m)\u001b[0m\u001b[0;34m\u001b[0m\u001b[0;34m\u001b[0m\u001b[0m\n",
            "\u001b[0;32m<ipython-input-18-2c27a5a5e3a6>\u001b[0m in \u001b[0;36m<listcomp>\u001b[0;34m(.0)\u001b[0m\n\u001b[1;32m      1\u001b[0m \u001b[0mavg\u001b[0m \u001b[0;34m=\u001b[0m \u001b[0;36m0\u001b[0m\u001b[0;34m\u001b[0m\u001b[0;34m\u001b[0m\u001b[0m\n\u001b[1;32m      2\u001b[0m \u001b[0;32mfor\u001b[0m \u001b[0mi\u001b[0m \u001b[0;32min\u001b[0m \u001b[0mrange\u001b[0m\u001b[0;34m(\u001b[0m\u001b[0;36m24\u001b[0m\u001b[0;34m)\u001b[0m\u001b[0;34m:\u001b[0m\u001b[0;34m\u001b[0m\u001b[0;34m\u001b[0m\u001b[0m\n\u001b[0;32m----> 3\u001b[0;31m     \u001b[0mpred\u001b[0m \u001b[0;34m=\u001b[0m \u001b[0;34m[\u001b[0m\u001b[0mpreds\u001b[0m\u001b[0;34m[\u001b[0m\u001b[0mj\u001b[0m\u001b[0;34m]\u001b[0m \u001b[0;32mfor\u001b[0m \u001b[0mj\u001b[0m \u001b[0;32min\u001b[0m \u001b[0mrange\u001b[0m\u001b[0;34m(\u001b[0m\u001b[0mi\u001b[0m\u001b[0;34m*\u001b[0m\u001b[0my_test\u001b[0m\u001b[0;34m.\u001b[0m\u001b[0mshape\u001b[0m\u001b[0;34m[\u001b[0m\u001b[0;36m0\u001b[0m\u001b[0;34m]\u001b[0m\u001b[0;34m,\u001b[0m \u001b[0;34m(\u001b[0m\u001b[0mi\u001b[0m\u001b[0;34m+\u001b[0m\u001b[0;36m1\u001b[0m\u001b[0;34m)\u001b[0m\u001b[0;34m*\u001b[0m\u001b[0my_test\u001b[0m\u001b[0;34m.\u001b[0m\u001b[0mshape\u001b[0m\u001b[0;34m[\u001b[0m\u001b[0;36m0\u001b[0m\u001b[0;34m]\u001b[0m\u001b[0;34m)\u001b[0m\u001b[0;34m]\u001b[0m\u001b[0;34m\u001b[0m\u001b[0;34m\u001b[0m\u001b[0m\n\u001b[0m\u001b[1;32m      4\u001b[0m     \u001b[0mactual\u001b[0m \u001b[0;34m=\u001b[0m \u001b[0my_test\u001b[0m\u001b[0;34m[\u001b[0m\u001b[0;34m:\u001b[0m\u001b[0;34m,\u001b[0m\u001b[0mi\u001b[0m\u001b[0;34m]\u001b[0m\u001b[0;34m.\u001b[0m\u001b[0mtolist\u001b[0m\u001b[0;34m(\u001b[0m\u001b[0;34m)\u001b[0m\u001b[0;34m\u001b[0m\u001b[0;34m\u001b[0m\u001b[0m\n\u001b[1;32m      5\u001b[0m     \u001b[0mavg\u001b[0m \u001b[0;34m+=\u001b[0m \u001b[0mmre\u001b[0m\u001b[0;34m(\u001b[0m\u001b[0mactual\u001b[0m\u001b[0;34m,\u001b[0m\u001b[0mpred\u001b[0m\u001b[0;34m)\u001b[0m\u001b[0;34m\u001b[0m\u001b[0;34m\u001b[0m\u001b[0m\n",
            "\u001b[0;31mNameError\u001b[0m: name 'preds' is not defined"
          ]
        }
      ]
    },
    {
      "cell_type": "code",
      "metadata": {
        "id": "qgRGRg6rErRv"
      },
      "source": [
        "import tensorflow as tf \n",
        "import sklearn\n",
        "from math import sqrt\n",
        "def smape(A, F):\n",
        "    F=np.array(F)\n",
        "    A=np.array(A)\n",
        "    return 100/len(A) * np.sum(2 * np.abs(F - A) / (np.abs(A) + np.abs(F)))\n",
        "\n",
        "def computation_metrics(actual , predicted):\n",
        "  m = tf.keras.metrics.MeanRelativeError(normalizer=actual)\n",
        "  m.update_state(actual, predicted)\n",
        "  print(\"MRE = \", m.result().numpy())\n",
        "\n",
        "  mae = tf.keras.losses.MeanAbsoluteError()\n",
        "  print(\"Mean absolute error =\",mae(actual, predicted).numpy())\n",
        "\n",
        "  mse = tf.keras.losses.MeanSquaredError()\n",
        "  print(\"RMSE = \" , sqrt(mse(actual, predicted).numpy()))\n",
        "\n",
        "  smap = smape(actual , predicted)\n",
        "  print(\"SMAPE = \", smap)\n",
        "\n",
        "  print(\" the coefficient of determination = \", sklearn.metrics.r2_score(actual , predicted))\n",
        "\n",
        "  \n",
        "\n",
        "\n",
        "\n",
        "\n",
        "\n"
      ],
      "execution_count": null,
      "outputs": []
    },
    {
      "cell_type": "code",
      "metadata": {
        "id": "BJJHlA2OHyua"
      },
      "source": [
        "computation_metrics(actual , predictions)"
      ],
      "execution_count": null,
      "outputs": []
    },
    {
      "cell_type": "code",
      "metadata": {
        "id": "3wHdBXaRH_XX"
      },
      "source": [
        "df = pd.DataFrame(predictions)\n",
        "df.to_csv('random_forest_96.csv')\n",
        "files.download('random_forest_96.csv')"
      ],
      "execution_count": null,
      "outputs": []
    },
    {
      "cell_type": "code",
      "metadata": {
        "id": "sl-8w20fK3xO"
      },
      "source": [],
      "execution_count": null,
      "outputs": []
    },
    {
      "cell_type": "code",
      "metadata": {
        "id": "UTACo1lHrZfM"
      },
      "source": [
        "\n",
        "from numpy import array\n",
        "from keras.models import Sequential\n",
        "from keras.layers import LSTM\n",
        "from keras.layers import Dense\n",
        "\n",
        "n_steps = 96\n",
        "\n",
        "n_features = 1\n",
        "\n",
        "x_train=np.array(x_train)\n",
        "x_test= np.array(x_test)\n",
        "\n",
        "x_train_reshaped = x_train.reshape(x_train.shape[0], 1, x_train.shape[1])\n",
        "x_test_reshaped =  x_test.reshape(x_test.shape[0], 1, x_test.shape[1])"
      ],
      "execution_count": null,
      "outputs": []
    },
    {
      "cell_type": "code",
      "metadata": {
        "colab": {
          "base_uri": "https://localhost:8080/"
        },
        "id": "QiL8PvA0uAlR",
        "outputId": "f1920230-f108-4c31-c2d3-e0eea983f674"
      },
      "source": [
        "x_train_reshaped.shape"
      ],
      "execution_count": null,
      "outputs": [
        {
          "output_type": "execute_result",
          "data": {
            "text/plain": [
              "(14517, 1, 96)"
            ]
          },
          "metadata": {
            "tags": []
          },
          "execution_count": 18
        }
      ]
    },
    {
      "cell_type": "code",
      "metadata": {
        "colab": {
          "base_uri": "https://localhost:8080/"
        },
        "id": "4BQyRSk4uTbw",
        "outputId": "58510841-1d5a-45e1-d26c-2d4843d27304"
      },
      "source": [
        "x_test_reshaped.shape"
      ],
      "execution_count": null,
      "outputs": [
        {
          "output_type": "execute_result",
          "data": {
            "text/plain": [
              "(6222, 1, 96)"
            ]
          },
          "metadata": {
            "tags": []
          },
          "execution_count": 19
        }
      ]
    },
    {
      "cell_type": "code",
      "metadata": {
        "colab": {
          "base_uri": "https://localhost:8080/"
        },
        "id": "cMbxVN0c9y6S",
        "outputId": "ef5bca0f-feb6-4ae6-f2bc-56f76e90f1c4"
      },
      "source": [
        "import keras\n",
        "from pandas import DataFrame\n",
        "from pandas import Series\n",
        "from pandas import concat\n",
        "from pandas import read_csv\n",
        "from pandas import datetime\n",
        "from sklearn.metrics import mean_squared_error\n",
        "from sklearn.preprocessing import MinMaxScaler\n",
        "from keras.models import Sequential\n",
        "from keras.layers import Dense\n",
        "from keras.layers import LSTM\n",
        "from math import sqrt\n",
        "import numpy\n",
        "# tensorflow.get_logger().setLevel('ERROR')\n",
        "import os\n",
        "os.environ['TF_CPP_MIN_LOG_LEVEL'] = '3'\n",
        "def scale(train, test):\n",
        "\n",
        "\tscaler = MinMaxScaler(feature_range=(-1, 1))\n",
        " \n",
        "\tscaler = scaler.fit(train)\n",
        "\n",
        "\ttrain = train.reshape(train.shape[0], train.shape[1])\n",
        " \n",
        "\ttrain_scaled = scaler.transform(train)\n",
        "\n",
        "\ttest = test.reshape(test.shape[0], test.shape[1])\n",
        " \n",
        "\ttest_scaled = scaler.transform(test)\n",
        " \n",
        "\treturn scaler , train_scaled, test_scaled\n",
        "\n",
        "def fit_lstm(train, batch_size, nb_epoch, neurons):\n",
        "  X, y = train[:, 0:-1], train[:, -1]\n",
        "  \n",
        "  X = X.reshape(X.shape[0], 1, X.shape[1])\n",
        "  y=y.reshape((y.shape[0],1))\n",
        "  # print(X[0].shape , (1, X.shape[1], X.shape[2]))\n",
        "  model = Sequential()\n",
        "  model.add(LSTM(neurons, batch_input_shape=(batch_size, X.shape[1], X.shape[2]), stateful=True,return_sequences=True))\n",
        "  # model.add(LSTM(100))\n",
        "  # model.add(LSTM(neurons, batch_input_shape=(batch_size, X.shape[1], X.shape[2]), stateful=True))\n",
        "  # model.add(Dense(128,activation='relu' , input_shape=(96, ) ,  name='Dense_first'))\n",
        "  # model.add(Dense(100))\n",
        "  # model.add(Dense(1))\n",
        "  # model.compile(loss='mean_squared_error', optimizer='adam')\n",
        "  # model.summary()\n",
        "  # model.add(Dense(64,activation='relu', name='dense_1'))\n",
        "  model.add(Dense(16, activation='relu', name='dense_1'))\n",
        "  model.add(Dense(1, activation='linear', name='dense_output'))\n",
        "  model.compile(optimizer='adam', loss='mse', metrics=['mae'])\n",
        "  model.fit(X,y,epochs=1,batch_size=batch_size,verbose=1)\n",
        "\n",
        "  return model\n",
        "\n",
        "def model_picture():\n",
        "  model = Sequential()\n",
        "  model.add(LSTM(50, batch_input_shape=(1, 96, 1), stateful=True,return_sequences=True))\n",
        "  # model.add(LSTM(100))\n",
        "  # model.add(LSTM(neurons, batch_input_shape=(batch_size, X.shape[1], X.shape[2]), stateful=True))\n",
        "  # model.add(Dense(128,activation='relu' , input_shape=(96, ) ,  name='Dense_first'))\n",
        "  # model.add(Dense(100))\n",
        "  # model.add(Dense(1))\n",
        "  # model.compile(loss='mean_squared_error', optimizer='adam')\n",
        "  # model.summary()\n",
        "  # model.add(Dense(64,activation='relu', name='dense_1'))\n",
        "  model.add(Dense(16, activation='relu', name='dense_1'))\n",
        "  model.add(Dense(1, activation='linear', name='dense_output'))\n",
        "  # model.compile(optimizer='adam', loss='mse', metrics=['mae'])\n",
        "  # model.fit(X,y,epochs=1,batch_size=batch_size,verbose=1)\n",
        "  keras.utils.plot_model(model,to_file='model.png')\n",
        "\n",
        "model_picture()\n",
        "\n",
        "def forecast_lstm(model, batch_size, X):\n",
        "\tX = X.reshape(1, 1, len(X))\n",
        "\tyhat = model.predict(X, batch_size=batch_size)\n",
        "\treturn yhat[0,0]\n",
        "\n",
        "\n",
        "def invert_scale(scaler, X, value):\n",
        "\tnew_row = [x for x in X] + [value]\n",
        "\tarray = numpy.array(new_row ,dtype=object )\n",
        "\tarray = array.reshape(1, len(array))\n",
        "\tinverted = scaler.inverse_transform(array)\n",
        "\treturn inverted[0, -1]\n",
        "\n",
        "\n"
      ],
      "execution_count": null,
      "outputs": [
        {
          "output_type": "stream",
          "text": [
            "/usr/local/lib/python3.7/dist-packages/ipykernel_launcher.py:6: FutureWarning: The pandas.datetime class is deprecated and will be removed from pandas in a future version. Import from datetime module instead.\n",
            "  \n"
          ],
          "name": "stderr"
        }
      ]
    },
    {
      "cell_type": "code",
      "metadata": {
        "colab": {
          "base_uri": "https://localhost:8080/",
          "height": 17
        },
        "id": "GqsQ67o4qic-",
        "outputId": "2d61cf34-b68a-4cbe-baf6-b4a419670778"
      },
      "source": [
        "from google.colab import files\n",
        "files.download(\"model.png\")"
      ],
      "execution_count": null,
      "outputs": [
        {
          "output_type": "display_data",
          "data": {
            "application/javascript": [
              "\n",
              "    async function download(id, filename, size) {\n",
              "      if (!google.colab.kernel.accessAllowed) {\n",
              "        return;\n",
              "      }\n",
              "      const div = document.createElement('div');\n",
              "      const label = document.createElement('label');\n",
              "      label.textContent = `Downloading \"${filename}\": `;\n",
              "      div.appendChild(label);\n",
              "      const progress = document.createElement('progress');\n",
              "      progress.max = size;\n",
              "      div.appendChild(progress);\n",
              "      document.body.appendChild(div);\n",
              "\n",
              "      const buffers = [];\n",
              "      let downloaded = 0;\n",
              "\n",
              "      const channel = await google.colab.kernel.comms.open(id);\n",
              "      // Send a message to notify the kernel that we're ready.\n",
              "      channel.send({})\n",
              "\n",
              "      for await (const message of channel.messages) {\n",
              "        // Send a message to notify the kernel that we're ready.\n",
              "        channel.send({})\n",
              "        if (message.buffers) {\n",
              "          for (const buffer of message.buffers) {\n",
              "            buffers.push(buffer);\n",
              "            downloaded += buffer.byteLength;\n",
              "            progress.value = downloaded;\n",
              "          }\n",
              "        }\n",
              "      }\n",
              "      const blob = new Blob(buffers, {type: 'application/binary'});\n",
              "      const a = document.createElement('a');\n",
              "      a.href = window.URL.createObjectURL(blob);\n",
              "      a.download = filename;\n",
              "      div.appendChild(a);\n",
              "      a.click();\n",
              "      div.remove();\n",
              "    }\n",
              "  "
            ],
            "text/plain": [
              "<IPython.core.display.Javascript object>"
            ]
          },
          "metadata": {
            "tags": []
          }
        },
        {
          "output_type": "display_data",
          "data": {
            "application/javascript": [
              "download(\"download_086240a9-683f-4b6d-bfcf-15ee758f7d41\", \"model.png\", 9172)"
            ],
            "text/plain": [
              "<IPython.core.display.Javascript object>"
            ]
          },
          "metadata": {
            "tags": []
          }
        }
      ]
    },
    {
      "cell_type": "code",
      "metadata": {
        "colab": {
          "base_uri": "https://localhost:8080/"
        },
        "id": "mjSmAPx7BkML",
        "outputId": "0040efdb-a1c2-48fb-def2-3806e0022247"
      },
      "source": [
        "print(np.append(x_train[0] , y_train[:,0][0]))"
      ],
      "execution_count": null,
      "outputs": [
        {
          "output_type": "stream",
          "text": [
            "[28667 28204 27781 27139 26687 26333 27611 27355 27166 26848 26485 26280\n",
            " 25908 25577 25239 24848 24595 24276 23817 23649 23382 23084 22628 22576\n",
            " 22198 22091 21945 21740 21420 21217 20975 20901 20592 20814 20707 20536\n",
            " 20460 20323 20148 20228 20023 19911 19555 19302 19122 19047 19138 19104\n",
            " 19113 19095 18986 18608 18348 18184 18170 18369 18506 18677 18902 19176\n",
            " 19388 19766 19964 20227 20456 20756 21105 21251 21177 21410 21634 21843\n",
            " 21984 22228 22407 22517 22592 22843 23049 23108 23240 23376 23510 23622\n",
            " 23694 23813 23734 23722 23447 23180 22997 22819 22575 22416 22366 22232\n",
            " 22291]\n"
          ],
          "name": "stdout"
        }
      ]
    },
    {
      "cell_type": "code",
      "metadata": {
        "colab": {
          "base_uri": "https://localhost:8080/"
        },
        "id": "PY0YDcH_sGKC",
        "outputId": "fdbdce7a-91b7-450c-efc1-7413b6ae1108"
      },
      "source": [
        "import tensorflow\n",
        "from numpy import array\n",
        "from tensorflow.keras.models import Sequential\n",
        "from tensorflow.keras.layers import LSTM\n",
        "from tensorflow.keras.layers import Dense\n",
        "import time\n",
        "tensorflow.get_logger().setLevel('ERROR')\n",
        "\n",
        "predictions=[]\n",
        "actual=[]\n",
        "\n",
        "batch_size=1 \n",
        "nb_epoch=3\n",
        "neurons = 100\n",
        "lstm_model = None\n",
        "for h in range(24):\n",
        "  # np.append(x_train[i] , y_train[:,h][i])\n",
        "  start_time= time.time()\n",
        "  train = np.array([np.append(x_train[i] , y_train[:,h][i]) for i in range(len(x_train))])\n",
        "  test = np.array([np.append(x_test[i] , y_test[:,h][i]) for i in range(len(x_test))])\n",
        "\n",
        "  scaler , train_scaled, test_scaled = scale(train , test)\n",
        "  # print(train_scaled)\n",
        "  # break\n",
        "\n",
        "  lstm_model = fit_lstm(train_scaled, 1, 1, 1)\n",
        "\n",
        "  X_12 = train_scaled[:,0:-1]\n",
        "  X_12= X_12.reshape(X_12.shape[0], 1, X_12.shape[1])\n",
        "\n",
        "  y_hat1 = lstm_model.predict(X_12,batch_size=1)\n",
        "\n",
        "  X_12 = test_scaled[:,0:-1]\n",
        "  X_12= X_12.reshape(X_12.shape[0], 1, X_12.shape[1])\n",
        "\n",
        "  y_hat2=  lstm_model.predict(X_12 , batch_size=1)\n",
        "\n",
        "  # print(len(y_hat1) , len(y_hat2))\n",
        "\n",
        "  # for i in range(len(y_hat1))\n",
        "\n",
        "  # yhat = forecast_lstm(lstm_model , 1 , test_scaled[:, 0:-1])\n",
        "  # yhat = invert_scale(scaler, test_scaled[:, 0:-1], yhat)\n",
        "  # predictions.extend(yhat)\n",
        "  for i in range(len(train_scaled)):\n",
        "    X_1,y_1 = train_scaled[i, 0:-1], train_scaled[i, -1]\n",
        "    # yhat = forecast_lstm(lstm_model, 1, X_1)\n",
        "    yhat = y_hat1[i]\n",
        "    yhat = invert_scale(scaler, X_1, yhat)\n",
        "    # print(yhat)\n",
        "    predictions.append(yhat)\n",
        "\n",
        "  for i in range(len(x_test)):\n",
        "    X_1, y_1 = test_scaled[i, 0:-1], test_scaled[i, -1]\n",
        "    # print(X)\n",
        "    # print(i+1, end=\" \")\n",
        "    # yhat = forecast_lstm(lstm_model, 1, X_1)\n",
        "    yhat = y_hat2[i]\n",
        "    yhat = invert_scale(scaler, X_1, yhat)\n",
        "    # print(yhat)\n",
        "    predictions.append(yhat)\n",
        "\n",
        "  actual.extend(y_test[:,h])\n",
        "\n",
        "  print(f\"This h={h+1} took \" , time.time()-start_time , \" seconds\")\n"
      ],
      "execution_count": null,
      "outputs": [
        {
          "output_type": "stream",
          "text": [
            "14517/14517 [==============================] - 33s 2ms/step - loss: 0.0393 - mae: 0.1363\n",
            "This h=1 took  54.58376407623291  seconds\n",
            "14517/14517 [==============================] - 33s 2ms/step - loss: 0.0296 - mae: 0.1204\n",
            "This h=2 took  53.88219618797302  seconds\n",
            "14517/14517 [==============================] - 33s 2ms/step - loss: 0.0369 - mae: 0.1353\n",
            "This h=3 took  53.745970249176025  seconds\n",
            "14517/14517 [==============================] - 33s 2ms/step - loss: 0.0339 - mae: 0.1327\n",
            "This h=4 took  53.60820198059082  seconds\n",
            "14517/14517 [==============================] - 33s 2ms/step - loss: 0.0370 - mae: 0.1396\n",
            "This h=5 took  53.889726638793945  seconds\n",
            "14517/14517 [==============================] - 33s 2ms/step - loss: 0.0542 - mae: 0.1714\n",
            "This h=6 took  54.460771560668945  seconds\n",
            "14517/14517 [==============================] - 33s 2ms/step - loss: 0.0453 - mae: 0.1579\n",
            "This h=7 took  53.535905599594116  seconds\n",
            "14517/14517 [==============================] - 34s 2ms/step - loss: 0.0485 - mae: 0.1644\n",
            "This h=8 took  54.56800961494446  seconds\n",
            "14517/14517 [==============================] - 33s 2ms/step - loss: 0.0519 - mae: 0.1690\n",
            "This h=9 took  53.446515798568726  seconds\n",
            "14517/14517 [==============================] - 34s 2ms/step - loss: 0.0581 - mae: 0.1826\n",
            "This h=10 took  54.589134216308594  seconds\n",
            "14517/14517 [==============================] - 33s 2ms/step - loss: 0.0524 - mae: 0.1744\n",
            "This h=11 took  53.313491106033325  seconds\n",
            "14517/14517 [==============================] - 33s 2ms/step - loss: 0.0566 - mae: 0.1832\n",
            "This h=12 took  53.223862648010254  seconds\n",
            "14517/14517 [==============================] - 34s 2ms/step - loss: 0.0582 - mae: 0.1871\n",
            "This h=13 took  54.69545292854309  seconds\n",
            "14517/14517 [==============================] - 33s 2ms/step - loss: 0.0703 - mae: 0.2062\n",
            "This h=14 took  53.57686758041382  seconds\n",
            "14517/14517 [==============================] - 33s 2ms/step - loss: 0.0529 - mae: 0.1763\n",
            "This h=15 took  53.704827547073364  seconds\n",
            "14517/14517 [==============================] - 34s 2ms/step - loss: 0.0688 - mae: 0.2033\n",
            "This h=16 took  54.23579812049866  seconds\n",
            "14517/14517 [==============================] - 33s 2ms/step - loss: 0.0763 - mae: 0.2160\n",
            "This h=17 took  53.5895299911499  seconds\n",
            "14517/14517 [==============================] - 33s 2ms/step - loss: 0.0695 - mae: 0.2115\n",
            "This h=18 took  54.54602885246277  seconds\n",
            "14517/14517 [==============================] - 33s 2ms/step - loss: 0.0736 - mae: 0.2102\n",
            "This h=19 took  53.24804735183716  seconds\n",
            "14517/14517 [==============================] - 34s 2ms/step - loss: 0.0642 - mae: 0.1980\n",
            "This h=20 took  54.408828020095825  seconds\n",
            "14517/14517 [==============================] - 33s 2ms/step - loss: 0.0773 - mae: 0.2167\n",
            "This h=21 took  53.96881127357483  seconds\n",
            "14517/14517 [==============================] - 33s 2ms/step - loss: 0.0651 - mae: 0.1969\n",
            "This h=22 took  54.30276584625244  seconds\n",
            "14517/14517 [==============================] - 33s 2ms/step - loss: 0.0716 - mae: 0.2146\n",
            "This h=23 took  53.7610981464386  seconds\n",
            "14517/14517 [==============================] - 33s 2ms/step - loss: 0.0899 - mae: 0.2381\n",
            "This h=24 took  53.76394009590149  seconds\n"
          ],
          "name": "stdout"
        }
      ]
    },
    {
      "cell_type": "code",
      "metadata": {
        "colab": {
          "base_uri": "https://localhost:8080/"
        },
        "id": "jbD7RCcXuI0q",
        "outputId": "f293c6c8-d1fa-4aca-84ec-bef6099070cb"
      },
      "source": [
        "computation_metrics(actual , predictions)"
      ],
      "execution_count": null,
      "outputs": [
        {
          "output_type": "stream",
          "text": [
            "MRE =  0.048368376\n",
            "Mean absolute error = 1316.857666015625\n",
            "RMSE =  1764.868479519083\n",
            "SMAPE =  4.812438894779995\n",
            " the coefficient of determination =  0.8517694182105405\n"
          ],
          "name": "stdout"
        }
      ]
    },
    {
      "cell_type": "code",
      "metadata": {
        "colab": {
          "base_uri": "https://localhost:8080/"
        },
        "id": "IRdcAyHBwEIg",
        "outputId": "8b3ac234-2eee-4b7d-ca02-454d8078935f"
      },
      "source": [
        "len(actual) , len(predictions)\n"
      ],
      "execution_count": null,
      "outputs": [
        {
          "output_type": "execute_result",
          "data": {
            "text/plain": [
              "(6222, 20739)"
            ]
          },
          "metadata": {
            "tags": []
          },
          "execution_count": 25
        }
      ]
    },
    {
      "cell_type": "code",
      "metadata": {
        "id": "Nvpn8tGv6a50",
        "colab": {
          "base_uri": "https://localhost:8080/",
          "height": 17
        },
        "outputId": "72bd3f05-9bae-49b2-f9d6-4dd5f3769746"
      },
      "source": [
        "# df = pd.DataFrame(predictions)\n",
        "# df.to_csv('LSTM_96.csv')\n",
        "# files.download('LSTM_96.csv')"
      ],
      "execution_count": null,
      "outputs": [
        {
          "output_type": "display_data",
          "data": {
            "application/javascript": [
              "\n",
              "    async function download(id, filename, size) {\n",
              "      if (!google.colab.kernel.accessAllowed) {\n",
              "        return;\n",
              "      }\n",
              "      const div = document.createElement('div');\n",
              "      const label = document.createElement('label');\n",
              "      label.textContent = `Downloading \"${filename}\": `;\n",
              "      div.appendChild(label);\n",
              "      const progress = document.createElement('progress');\n",
              "      progress.max = size;\n",
              "      div.appendChild(progress);\n",
              "      document.body.appendChild(div);\n",
              "\n",
              "      const buffers = [];\n",
              "      let downloaded = 0;\n",
              "\n",
              "      const channel = await google.colab.kernel.comms.open(id);\n",
              "      // Send a message to notify the kernel that we're ready.\n",
              "      channel.send({})\n",
              "\n",
              "      for await (const message of channel.messages) {\n",
              "        // Send a message to notify the kernel that we're ready.\n",
              "        channel.send({})\n",
              "        if (message.buffers) {\n",
              "          for (const buffer of message.buffers) {\n",
              "            buffers.push(buffer);\n",
              "            downloaded += buffer.byteLength;\n",
              "            progress.value = downloaded;\n",
              "          }\n",
              "        }\n",
              "      }\n",
              "      const blob = new Blob(buffers, {type: 'application/binary'});\n",
              "      const a = document.createElement('a');\n",
              "      a.href = window.URL.createObjectURL(blob);\n",
              "      a.download = filename;\n",
              "      div.appendChild(a);\n",
              "      a.click();\n",
              "      div.remove();\n",
              "    }\n",
              "  "
            ],
            "text/plain": [
              "<IPython.core.display.Javascript object>"
            ]
          },
          "metadata": {
            "tags": []
          }
        },
        {
          "output_type": "display_data",
          "data": {
            "application/javascript": [
              "download(\"download_3c197500-e88b-48b6-af0e-7a983feacaa5\", \"LSTM_96.csv\", 3701533)"
            ],
            "text/plain": [
              "<IPython.core.display.Javascript object>"
            ]
          },
          "metadata": {
            "tags": []
          }
        }
      ]
    },
    {
      "cell_type": "code",
      "metadata": {
        "id": "zJZR_qvUtVpO",
        "colab": {
          "base_uri": "https://localhost:8080/",
          "height": 185
        },
        "outputId": "3a4da779-47bb-443e-be1e-e87550f78c92"
      },
      "source": [
        "from google.colab import files\n",
        "h=24\n",
        "# predictions = l\n",
        "predictions = np.array(predictions)\n",
        "predictions = predictions.reshape(h,-1)\n",
        "df = pd.DataFrame(predictions.T)\n",
        "print(df.shape)\n",
        "print(df.head())\n",
        "df.to_csv('LSTM_output_96.csv.csv')\n",
        "files.download('LSTM_output_96.csv.csv')"
      ],
      "execution_count": null,
      "outputs": [
        {
          "output_type": "stream",
          "text": [
            "(20739, 24)\n",
            "             0             1   ...            22            23\n",
            "0  22491.338288  24097.504240  ...  24580.883192  25528.051120\n",
            "1  28192.227853  30611.470970  ...  29777.804394  29033.905640\n",
            "2  28043.885227  29192.326045  ...  25128.949156  25617.510620\n",
            "3  21695.005399  23036.022934  ...  27901.904736  25079.795257\n",
            "4  28501.045556  29718.989629  ...  30036.623852  26057.237617\n",
            "\n",
            "[5 rows x 24 columns]\n"
          ],
          "name": "stdout"
        },
        {
          "output_type": "display_data",
          "data": {
            "application/javascript": [
              "\n",
              "    async function download(id, filename, size) {\n",
              "      if (!google.colab.kernel.accessAllowed) {\n",
              "        return;\n",
              "      }\n",
              "      const div = document.createElement('div');\n",
              "      const label = document.createElement('label');\n",
              "      label.textContent = `Downloading \"${filename}\": `;\n",
              "      div.appendChild(label);\n",
              "      const progress = document.createElement('progress');\n",
              "      progress.max = size;\n",
              "      div.appendChild(progress);\n",
              "      document.body.appendChild(div);\n",
              "\n",
              "      const buffers = [];\n",
              "      let downloaded = 0;\n",
              "\n",
              "      const channel = await google.colab.kernel.comms.open(id);\n",
              "      // Send a message to notify the kernel that we're ready.\n",
              "      channel.send({})\n",
              "\n",
              "      for await (const message of channel.messages) {\n",
              "        // Send a message to notify the kernel that we're ready.\n",
              "        channel.send({})\n",
              "        if (message.buffers) {\n",
              "          for (const buffer of message.buffers) {\n",
              "            buffers.push(buffer);\n",
              "            downloaded += buffer.byteLength;\n",
              "            progress.value = downloaded;\n",
              "          }\n",
              "        }\n",
              "      }\n",
              "      const blob = new Blob(buffers, {type: 'application/binary'});\n",
              "      const a = document.createElement('a');\n",
              "      a.href = window.URL.createObjectURL(blob);\n",
              "      a.download = filename;\n",
              "      div.appendChild(a);\n",
              "      a.click();\n",
              "      div.remove();\n",
              "    }\n",
              "  "
            ],
            "text/plain": [
              "<IPython.core.display.Javascript object>"
            ]
          },
          "metadata": {
            "tags": []
          }
        },
        {
          "output_type": "display_data",
          "data": {
            "application/javascript": [
              "download(\"download_52598b30-ddc9-462e-a350-6cdb52a18aa0\", \"LSTM_output_96.csv.csv\", 9318859)"
            ],
            "text/plain": [
              "<IPython.core.display.Javascript object>"
            ]
          },
          "metadata": {
            "tags": []
          }
        }
      ]
    },
    {
      "cell_type": "code",
      "metadata": {
        "id": "i0RZdCn14yn8"
      },
      "source": [],
      "execution_count": null,
      "outputs": []
    }
  ]
}