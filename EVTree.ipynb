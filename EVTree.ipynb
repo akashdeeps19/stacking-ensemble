{
  "nbformat": 4,
  "nbformat_minor": 0,
  "metadata": {
    "colab": {
      "name": "EVTree.ipynb",
      "provenance": []
    },
    "kernelspec": {
      "name": "ir",
      "display_name": "R"
    }
  },
  "cells": [
    {
      "cell_type": "code",
      "metadata": {
        "id": "Dbw7GQFRMOYk"
      },
      "source": [
        "data_96 <- read.csv(\"https://raw.githubusercontent.com/akashdeeps19/stacking-ensemble/master/dataset_96.csv\")"
      ],
      "execution_count": null,
      "outputs": []
    },
    {
      "cell_type": "code",
      "metadata": {
        "colab": {
          "base_uri": "https://localhost:8080/",
          "height": 274
        },
        "id": "7g8234LRP6Bm",
        "outputId": "075c7242-2720-4cd5-a376-c6b17f56bb5c"
      },
      "source": [
        "head(data_96)"
      ],
      "execution_count": null,
      "outputs": [
        {
          "output_type": "display_data",
          "data": {
            "text/plain": [
              "  X X0    X1    X2    X3    X4    X5    X6    X7    X8    ⋯ X110  X111  X112 \n",
              "1 0 28667 28204 27781 27139 26687 26333 27611 27355 27166 ⋯ 26365 27007 27504\n",
              "2 1 22198 22091 21945 21740 21420 21217 20975 20901 20592 ⋯ 30023 29623 29428\n",
              "3 2 19113 19095 18986 18608 18348 18184 18170 18369 18506 ⋯ 23410 23250 23017\n",
              "4 3 21984 22228 22407 22517 22592 22843 23049 23108 23240 ⋯ 24426 24872 25374\n",
              "5 4 22291 22271 22303 22217 22340 22434 22653 22857 22855 ⋯ 35516 35654 35586\n",
              "6 5 28978 29330 29546 29658 30146 30451 30398 30566 30711 ⋯ 33299 33465 33081\n",
              "  X113  X114  X115  X116  X117  X118  X119 \n",
              "1 27887 27906 28141 28329 28536 28786 28952\n",
              "2 29368 29593 30310 30447 30111 29755 29401\n",
              "3 22891 22789 22514 22480 22292 22308 22202\n",
              "4 25756 26260 27177 27518 27902 28490 29191\n",
              "5 36191 35740 36005 36042 35963 36287 36063\n",
              "6 32933 32807 32715 32875 32672 32900 32828"
            ],
            "text/latex": "A data.frame: 6 × 121\n\\begin{tabular}{r|lllllllllllllllllllll}\n  & X & X0 & X1 & X2 & X3 & X4 & X5 & X6 & X7 & X8 & ⋯ & X110 & X111 & X112 & X113 & X114 & X115 & X116 & X117 & X118 & X119\\\\\n  & <int> & <int> & <int> & <int> & <int> & <int> & <int> & <int> & <int> & <int> & ⋯ & <int> & <int> & <int> & <int> & <int> & <int> & <int> & <int> & <int> & <int>\\\\\n\\hline\n\t1 & 0 & 28667 & 28204 & 27781 & 27139 & 26687 & 26333 & 27611 & 27355 & 27166 & ⋯ & 26365 & 27007 & 27504 & 27887 & 27906 & 28141 & 28329 & 28536 & 28786 & 28952\\\\\n\t2 & 1 & 22198 & 22091 & 21945 & 21740 & 21420 & 21217 & 20975 & 20901 & 20592 & ⋯ & 30023 & 29623 & 29428 & 29368 & 29593 & 30310 & 30447 & 30111 & 29755 & 29401\\\\\n\t3 & 2 & 19113 & 19095 & 18986 & 18608 & 18348 & 18184 & 18170 & 18369 & 18506 & ⋯ & 23410 & 23250 & 23017 & 22891 & 22789 & 22514 & 22480 & 22292 & 22308 & 22202\\\\\n\t4 & 3 & 21984 & 22228 & 22407 & 22517 & 22592 & 22843 & 23049 & 23108 & 23240 & ⋯ & 24426 & 24872 & 25374 & 25756 & 26260 & 27177 & 27518 & 27902 & 28490 & 29191\\\\\n\t5 & 4 & 22291 & 22271 & 22303 & 22217 & 22340 & 22434 & 22653 & 22857 & 22855 & ⋯ & 35516 & 35654 & 35586 & 36191 & 35740 & 36005 & 36042 & 35963 & 36287 & 36063\\\\\n\t6 & 5 & 28978 & 29330 & 29546 & 29658 & 30146 & 30451 & 30398 & 30566 & 30711 & ⋯ & 33299 & 33465 & 33081 & 32933 & 32807 & 32715 & 32875 & 32672 & 32900 & 32828\\\\\n\\end{tabular}\n",
            "text/markdown": "\nA data.frame: 6 × 121\n\n| <!--/--> | X &lt;int&gt; | X0 &lt;int&gt; | X1 &lt;int&gt; | X2 &lt;int&gt; | X3 &lt;int&gt; | X4 &lt;int&gt; | X5 &lt;int&gt; | X6 &lt;int&gt; | X7 &lt;int&gt; | X8 &lt;int&gt; | ⋯ ⋯ | X110 &lt;int&gt; | X111 &lt;int&gt; | X112 &lt;int&gt; | X113 &lt;int&gt; | X114 &lt;int&gt; | X115 &lt;int&gt; | X116 &lt;int&gt; | X117 &lt;int&gt; | X118 &lt;int&gt; | X119 &lt;int&gt; |\n|---|---|---|---|---|---|---|---|---|---|---|---|---|---|---|---|---|---|---|---|---|---|\n| 1 | 0 | 28667 | 28204 | 27781 | 27139 | 26687 | 26333 | 27611 | 27355 | 27166 | ⋯ | 26365 | 27007 | 27504 | 27887 | 27906 | 28141 | 28329 | 28536 | 28786 | 28952 |\n| 2 | 1 | 22198 | 22091 | 21945 | 21740 | 21420 | 21217 | 20975 | 20901 | 20592 | ⋯ | 30023 | 29623 | 29428 | 29368 | 29593 | 30310 | 30447 | 30111 | 29755 | 29401 |\n| 3 | 2 | 19113 | 19095 | 18986 | 18608 | 18348 | 18184 | 18170 | 18369 | 18506 | ⋯ | 23410 | 23250 | 23017 | 22891 | 22789 | 22514 | 22480 | 22292 | 22308 | 22202 |\n| 4 | 3 | 21984 | 22228 | 22407 | 22517 | 22592 | 22843 | 23049 | 23108 | 23240 | ⋯ | 24426 | 24872 | 25374 | 25756 | 26260 | 27177 | 27518 | 27902 | 28490 | 29191 |\n| 5 | 4 | 22291 | 22271 | 22303 | 22217 | 22340 | 22434 | 22653 | 22857 | 22855 | ⋯ | 35516 | 35654 | 35586 | 36191 | 35740 | 36005 | 36042 | 35963 | 36287 | 36063 |\n| 6 | 5 | 28978 | 29330 | 29546 | 29658 | 30146 | 30451 | 30398 | 30566 | 30711 | ⋯ | 33299 | 33465 | 33081 | 32933 | 32807 | 32715 | 32875 | 32672 | 32900 | 32828 |\n\n",
            "text/html": [
              "<table class=\"dataframe\">\n",
              "<caption>A data.frame: 6 × 121</caption>\n",
              "<thead>\n",
              "\t<tr><th></th><th scope=col>X</th><th scope=col>X0</th><th scope=col>X1</th><th scope=col>X2</th><th scope=col>X3</th><th scope=col>X4</th><th scope=col>X5</th><th scope=col>X6</th><th scope=col>X7</th><th scope=col>X8</th><th scope=col>⋯</th><th scope=col>X110</th><th scope=col>X111</th><th scope=col>X112</th><th scope=col>X113</th><th scope=col>X114</th><th scope=col>X115</th><th scope=col>X116</th><th scope=col>X117</th><th scope=col>X118</th><th scope=col>X119</th></tr>\n",
              "\t<tr><th></th><th scope=col>&lt;int&gt;</th><th scope=col>&lt;int&gt;</th><th scope=col>&lt;int&gt;</th><th scope=col>&lt;int&gt;</th><th scope=col>&lt;int&gt;</th><th scope=col>&lt;int&gt;</th><th scope=col>&lt;int&gt;</th><th scope=col>&lt;int&gt;</th><th scope=col>&lt;int&gt;</th><th scope=col>&lt;int&gt;</th><th scope=col>⋯</th><th scope=col>&lt;int&gt;</th><th scope=col>&lt;int&gt;</th><th scope=col>&lt;int&gt;</th><th scope=col>&lt;int&gt;</th><th scope=col>&lt;int&gt;</th><th scope=col>&lt;int&gt;</th><th scope=col>&lt;int&gt;</th><th scope=col>&lt;int&gt;</th><th scope=col>&lt;int&gt;</th><th scope=col>&lt;int&gt;</th></tr>\n",
              "</thead>\n",
              "<tbody>\n",
              "\t<tr><th scope=row>1</th><td>0</td><td>28667</td><td>28204</td><td>27781</td><td>27139</td><td>26687</td><td>26333</td><td>27611</td><td>27355</td><td>27166</td><td>⋯</td><td>26365</td><td>27007</td><td>27504</td><td>27887</td><td>27906</td><td>28141</td><td>28329</td><td>28536</td><td>28786</td><td>28952</td></tr>\n",
              "\t<tr><th scope=row>2</th><td>1</td><td>22198</td><td>22091</td><td>21945</td><td>21740</td><td>21420</td><td>21217</td><td>20975</td><td>20901</td><td>20592</td><td>⋯</td><td>30023</td><td>29623</td><td>29428</td><td>29368</td><td>29593</td><td>30310</td><td>30447</td><td>30111</td><td>29755</td><td>29401</td></tr>\n",
              "\t<tr><th scope=row>3</th><td>2</td><td>19113</td><td>19095</td><td>18986</td><td>18608</td><td>18348</td><td>18184</td><td>18170</td><td>18369</td><td>18506</td><td>⋯</td><td>23410</td><td>23250</td><td>23017</td><td>22891</td><td>22789</td><td>22514</td><td>22480</td><td>22292</td><td>22308</td><td>22202</td></tr>\n",
              "\t<tr><th scope=row>4</th><td>3</td><td>21984</td><td>22228</td><td>22407</td><td>22517</td><td>22592</td><td>22843</td><td>23049</td><td>23108</td><td>23240</td><td>⋯</td><td>24426</td><td>24872</td><td>25374</td><td>25756</td><td>26260</td><td>27177</td><td>27518</td><td>27902</td><td>28490</td><td>29191</td></tr>\n",
              "\t<tr><th scope=row>5</th><td>4</td><td>22291</td><td>22271</td><td>22303</td><td>22217</td><td>22340</td><td>22434</td><td>22653</td><td>22857</td><td>22855</td><td>⋯</td><td>35516</td><td>35654</td><td>35586</td><td>36191</td><td>35740</td><td>36005</td><td>36042</td><td>35963</td><td>36287</td><td>36063</td></tr>\n",
              "\t<tr><th scope=row>6</th><td>5</td><td>28978</td><td>29330</td><td>29546</td><td>29658</td><td>30146</td><td>30451</td><td>30398</td><td>30566</td><td>30711</td><td>⋯</td><td>33299</td><td>33465</td><td>33081</td><td>32933</td><td>32807</td><td>32715</td><td>32875</td><td>32672</td><td>32900</td><td>32828</td></tr>\n",
              "</tbody>\n",
              "</table>\n"
            ]
          },
          "metadata": {
            "tags": []
          }
        }
      ]
    },
    {
      "cell_type": "code",
      "metadata": {
        "colab": {
          "base_uri": "https://localhost:8080/"
        },
        "id": "04dioYkgQEsC",
        "outputId": "078c976f-fadc-4321-80ef-1139bd1c5823"
      },
      "source": [
        "install.packages(\"evtree\")"
      ],
      "execution_count": null,
      "outputs": [
        {
          "output_type": "stream",
          "text": [
            "Installing package into ‘/usr/local/lib/R/site-library’\n",
            "(as ‘lib’ is unspecified)\n",
            "\n"
          ],
          "name": "stderr"
        }
      ]
    },
    {
      "cell_type": "code",
      "metadata": {
        "colab": {
          "base_uri": "https://localhost:8080/"
        },
        "id": "BrwoasmXTPzS",
        "outputId": "e1ab3b17-3ba3-4043-94bb-9447ced67438"
      },
      "source": [
        "library(\"evtree\")"
      ],
      "execution_count": null,
      "outputs": [
        {
          "output_type": "stream",
          "text": [
            "Loading required package: partykit\n",
            "\n",
            "Loading required package: grid\n",
            "\n",
            "Loading required package: libcoin\n",
            "\n",
            "Loading required package: mvtnorm\n",
            "\n"
          ],
          "name": "stderr"
        }
      ]
    },
    {
      "cell_type": "code",
      "metadata": {
        "colab": {
          "base_uri": "https://localhost:8080/",
          "height": 33
        },
        "id": "5RB5iX6yZT7n",
        "outputId": "bbb6a380-5a15-491e-a986-304ec26ca980"
      },
      "source": [
        "X = data_96[2:97]\n",
        "y = data_96[98:121]\n",
        "dim(X)"
      ],
      "execution_count": null,
      "outputs": [
        {
          "output_type": "display_data",
          "data": {
            "text/plain": [
              "[1] 20739    96"
            ],
            "text/latex": "\\begin{enumerate*}\n\\item 20739\n\\item 96\n\\end{enumerate*}\n",
            "text/markdown": "1. 20739\n2. 96\n\n\n",
            "text/html": [
              "<style>\n",
              ".list-inline {list-style: none; margin:0; padding: 0}\n",
              ".list-inline>li {display: inline-block}\n",
              ".list-inline>li:not(:last-child)::after {content: \"\\00b7\"; padding: 0 .5ex}\n",
              "</style>\n",
              "<ol class=list-inline><li>20739</li><li>96</li></ol>\n"
            ]
          },
          "metadata": {
            "tags": []
          }
        }
      ]
    },
    {
      "cell_type": "code",
      "metadata": {
        "colab": {
          "base_uri": "https://localhost:8080/",
          "height": 33
        },
        "id": "7me2aVpcUyMH",
        "outputId": "00822303-09bd-40ea-c6dd-29bf9b9a4a9c"
      },
      "source": [
        "dim(y)"
      ],
      "execution_count": null,
      "outputs": [
        {
          "output_type": "display_data",
          "data": {
            "text/plain": [
              "[1] 20739    24"
            ],
            "text/latex": "\\begin{enumerate*}\n\\item 20739\n\\item 24\n\\end{enumerate*}\n",
            "text/markdown": "1. 20739\n2. 24\n\n\n",
            "text/html": [
              "<style>\n",
              ".list-inline {list-style: none; margin:0; padding: 0}\n",
              ".list-inline>li {display: inline-block}\n",
              ".list-inline>li:not(:last-child)::after {content: \"\\00b7\"; padding: 0 .5ex}\n",
              "</style>\n",
              "<ol class=list-inline><li>20739</li><li>24</li></ol>\n"
            ]
          },
          "metadata": {
            "tags": []
          }
        }
      ]
    },
    {
      "cell_type": "code",
      "metadata": {
        "id": "-R3u5fmYp8ym"
      },
      "source": [
        "w = 96\n",
        "h = 24"
      ],
      "execution_count": null,
      "outputs": []
    },
    {
      "cell_type": "code",
      "metadata": {
        "colab": {
          "base_uri": "https://localhost:8080/"
        },
        "id": "f4zPZNLX1Pv-",
        "outputId": "c2a90b66-3d43-4d0e-970d-5891bded399f"
      },
      "source": [
        "n <- as.integer(0.7 * dim(data_96)[1])\n",
        "preds = y[1]\n",
        "for (i in seq(1, h, by=1)) {\n",
        "    dt = cbind(X,y[i])\n",
        "    colnames(dt)[w+1] <- 'H'\n",
        "    train_dt = head(dt,n)\n",
        "    test_dt = tail(dt,-n)\n",
        "    evt <- evtree(H ~ .,data = train_dt, control = evtree.control(minbucket = 8L, minsplit = 100L, maxdepth = 15L, niterations = 400L, ntrees = 100L, alpha = 1, operatorprob = list(pmutatemajor = 0.2, pmutateminor = 0.2, pcrossover = 0.8, psplit = 0.2, pprune = 0.4),seed = 1))\n",
        "    print(mean(abs(predict(evt,test_dt) - test_dt$H)))\n",
        "    flush.console()\n",
        "    pred = predict(evt,dt)\n",
        "    preds = cbind(preds,pred)\n",
        "}"
      ],
      "execution_count": null,
      "outputs": [
        {
          "output_type": "stream",
          "text": [
            "[1] 347.1508\n",
            "[1] 472.2895\n",
            "[1] 695.5578\n",
            "[1] 717.8883\n",
            "[1] 842.6955\n",
            "[1] 950.268\n",
            "[1] 948.4617\n",
            "[1] 1094.788\n",
            "[1] 1072.53\n",
            "[1] 1199.613\n",
            "[1] 1352.65\n",
            "[1] 1247.618\n",
            "[1] 1247.44\n",
            "[1] 1305.729\n",
            "[1] 1369.781\n",
            "[1] 1431.292\n",
            "[1] 1459.37\n",
            "[1] 1428.817\n",
            "[1] 1459.114\n",
            "[1] 1449.247\n",
            "[1] 1490.871\n",
            "[1] 1588.332\n",
            "[1] 1634.699\n",
            "[1] 1624.99\n"
          ],
          "name": "stdout"
        }
      ]
    },
    {
      "cell_type": "code",
      "metadata": {
        "colab": {
          "base_uri": "https://localhost:8080/",
          "height": 311
        },
        "id": "6_MMyCKXSx0R",
        "outputId": "09b20b12-c101-46a7-cd61-60f36a4d2094"
      },
      "source": [
        "# plot(evt)\n",
        "# table(predict(evt), head(dt,200)$X96)\n",
        "output = preds[2:(h+1)]\n",
        "write.csv(output,'evoutput.csv',row.names = FALSE)\n",
        "dim(output)\n",
        "head(output)"
      ],
      "execution_count": null,
      "outputs": [
        {
          "output_type": "display_data",
          "data": {
            "text/plain": [
              "[1] 20739    24"
            ],
            "text/latex": "\\begin{enumerate*}\n\\item 20739\n\\item 24\n\\end{enumerate*}\n",
            "text/markdown": "1. 20739\n2. 24\n\n\n",
            "text/html": [
              "<style>\n",
              ".list-inline {list-style: none; margin:0; padding: 0}\n",
              ".list-inline>li {display: inline-block}\n",
              ".list-inline>li:not(:last-child)::after {content: \"\\00b7\"; padding: 0 .5ex}\n",
              "</style>\n",
              "<ol class=list-inline><li>20739</li><li>24</li></ol>\n"
            ]
          },
          "metadata": {
            "tags": []
          }
        },
        {
          "output_type": "display_data",
          "data": {
            "text/plain": [
              "  pred     pred.1   pred.2   pred.3   pred.4   pred.5   pred.6   pred.7  \n",
              "1 22373.46 22647.39 22633.47 23233.51 21692.73 23753.09 22895.98 21050.73\n",
              "2 28657.80 28984.65 28940.17 30909.71 29770.57 29370.98 27169.62 26740.04\n",
              "3 29851.82 29747.29 29811.42 29236.57 28599.25 29794.67 27072.41 29095.46\n",
              "4 22373.46 22078.68 22580.24 22237.38 21692.73 21117.59 22895.98 21050.73\n",
              "5 28657.80 28984.65 29132.69 30484.32 31371.67 29370.98 29393.53 32065.54\n",
              "6 36264.22 36197.57 36052.05 35329.98 34747.57 36251.69 35398.97 35292.68\n",
              "  pred.8   pred.9   ⋯ pred.14  pred.15  pred.16  pred.17  pred.18  pred.19 \n",
              "1 25858.62 23361.70 ⋯ 25248.97 23596.73 22432.81 24065.30 27590.34 26982.23\n",
              "2 29163.89 28956.26 ⋯ 24065.65 24531.64 27517.14 24575.93 25536.29 25444.67\n",
              "3 28758.21 26016.64 ⋯ 24065.65 31583.69 24237.03 22293.97 28234.28 30181.79\n",
              "4 22101.13 20946.65 ⋯ 22474.20 21132.49 21872.00 23413.95 31516.49 22415.94\n",
              "5 32274.28 32714.15 ⋯ 31419.49 32056.57 31783.13 29879.05 33306.02 34604.17\n",
              "6 35108.92 35516.08 ⋯ 27029.45 34922.09 36106.65 33794.97 33441.44 34183.15\n",
              "  pred.20  pred.21  pred.22  pred.23 \n",
              "1 24807.08 26026.86 27398.80 23791.09\n",
              "2 23637.69 28192.93 27371.12 26426.66\n",
              "3 25561.52 29234.94 27371.12 26426.66\n",
              "4 22124.68 28657.51 23748.63 27192.05\n",
              "5 32460.73 34092.77 33515.99 32828.67\n",
              "6 32608.84 32491.24 33858.32 33854.40"
            ],
            "text/latex": "A data.frame: 6 × 24\n\\begin{tabular}{r|lllllllllllllllllllll}\n  & pred & pred.1 & pred.2 & pred.3 & pred.4 & pred.5 & pred.6 & pred.7 & pred.8 & pred.9 & ⋯ & pred.14 & pred.15 & pred.16 & pred.17 & pred.18 & pred.19 & pred.20 & pred.21 & pred.22 & pred.23\\\\\n  & <dbl> & <dbl> & <dbl> & <dbl> & <dbl> & <dbl> & <dbl> & <dbl> & <dbl> & <dbl> & ⋯ & <dbl> & <dbl> & <dbl> & <dbl> & <dbl> & <dbl> & <dbl> & <dbl> & <dbl> & <dbl>\\\\\n\\hline\n\t1 & 22373.46 & 22647.39 & 22633.47 & 23233.51 & 21692.73 & 23753.09 & 22895.98 & 21050.73 & 25858.62 & 23361.70 & ⋯ & 25248.97 & 23596.73 & 22432.81 & 24065.30 & 27590.34 & 26982.23 & 24807.08 & 26026.86 & 27398.80 & 23791.09\\\\\n\t2 & 28657.80 & 28984.65 & 28940.17 & 30909.71 & 29770.57 & 29370.98 & 27169.62 & 26740.04 & 29163.89 & 28956.26 & ⋯ & 24065.65 & 24531.64 & 27517.14 & 24575.93 & 25536.29 & 25444.67 & 23637.69 & 28192.93 & 27371.12 & 26426.66\\\\\n\t3 & 29851.82 & 29747.29 & 29811.42 & 29236.57 & 28599.25 & 29794.67 & 27072.41 & 29095.46 & 28758.21 & 26016.64 & ⋯ & 24065.65 & 31583.69 & 24237.03 & 22293.97 & 28234.28 & 30181.79 & 25561.52 & 29234.94 & 27371.12 & 26426.66\\\\\n\t4 & 22373.46 & 22078.68 & 22580.24 & 22237.38 & 21692.73 & 21117.59 & 22895.98 & 21050.73 & 22101.13 & 20946.65 & ⋯ & 22474.20 & 21132.49 & 21872.00 & 23413.95 & 31516.49 & 22415.94 & 22124.68 & 28657.51 & 23748.63 & 27192.05\\\\\n\t5 & 28657.80 & 28984.65 & 29132.69 & 30484.32 & 31371.67 & 29370.98 & 29393.53 & 32065.54 & 32274.28 & 32714.15 & ⋯ & 31419.49 & 32056.57 & 31783.13 & 29879.05 & 33306.02 & 34604.17 & 32460.73 & 34092.77 & 33515.99 & 32828.67\\\\\n\t6 & 36264.22 & 36197.57 & 36052.05 & 35329.98 & 34747.57 & 36251.69 & 35398.97 & 35292.68 & 35108.92 & 35516.08 & ⋯ & 27029.45 & 34922.09 & 36106.65 & 33794.97 & 33441.44 & 34183.15 & 32608.84 & 32491.24 & 33858.32 & 33854.40\\\\\n\\end{tabular}\n",
            "text/markdown": "\nA data.frame: 6 × 24\n\n| <!--/--> | pred &lt;dbl&gt; | pred.1 &lt;dbl&gt; | pred.2 &lt;dbl&gt; | pred.3 &lt;dbl&gt; | pred.4 &lt;dbl&gt; | pred.5 &lt;dbl&gt; | pred.6 &lt;dbl&gt; | pred.7 &lt;dbl&gt; | pred.8 &lt;dbl&gt; | pred.9 &lt;dbl&gt; | ⋯ ⋯ | pred.14 &lt;dbl&gt; | pred.15 &lt;dbl&gt; | pred.16 &lt;dbl&gt; | pred.17 &lt;dbl&gt; | pred.18 &lt;dbl&gt; | pred.19 &lt;dbl&gt; | pred.20 &lt;dbl&gt; | pred.21 &lt;dbl&gt; | pred.22 &lt;dbl&gt; | pred.23 &lt;dbl&gt; |\n|---|---|---|---|---|---|---|---|---|---|---|---|---|---|---|---|---|---|---|---|---|---|\n| 1 | 22373.46 | 22647.39 | 22633.47 | 23233.51 | 21692.73 | 23753.09 | 22895.98 | 21050.73 | 25858.62 | 23361.70 | ⋯ | 25248.97 | 23596.73 | 22432.81 | 24065.30 | 27590.34 | 26982.23 | 24807.08 | 26026.86 | 27398.80 | 23791.09 |\n| 2 | 28657.80 | 28984.65 | 28940.17 | 30909.71 | 29770.57 | 29370.98 | 27169.62 | 26740.04 | 29163.89 | 28956.26 | ⋯ | 24065.65 | 24531.64 | 27517.14 | 24575.93 | 25536.29 | 25444.67 | 23637.69 | 28192.93 | 27371.12 | 26426.66 |\n| 3 | 29851.82 | 29747.29 | 29811.42 | 29236.57 | 28599.25 | 29794.67 | 27072.41 | 29095.46 | 28758.21 | 26016.64 | ⋯ | 24065.65 | 31583.69 | 24237.03 | 22293.97 | 28234.28 | 30181.79 | 25561.52 | 29234.94 | 27371.12 | 26426.66 |\n| 4 | 22373.46 | 22078.68 | 22580.24 | 22237.38 | 21692.73 | 21117.59 | 22895.98 | 21050.73 | 22101.13 | 20946.65 | ⋯ | 22474.20 | 21132.49 | 21872.00 | 23413.95 | 31516.49 | 22415.94 | 22124.68 | 28657.51 | 23748.63 | 27192.05 |\n| 5 | 28657.80 | 28984.65 | 29132.69 | 30484.32 | 31371.67 | 29370.98 | 29393.53 | 32065.54 | 32274.28 | 32714.15 | ⋯ | 31419.49 | 32056.57 | 31783.13 | 29879.05 | 33306.02 | 34604.17 | 32460.73 | 34092.77 | 33515.99 | 32828.67 |\n| 6 | 36264.22 | 36197.57 | 36052.05 | 35329.98 | 34747.57 | 36251.69 | 35398.97 | 35292.68 | 35108.92 | 35516.08 | ⋯ | 27029.45 | 34922.09 | 36106.65 | 33794.97 | 33441.44 | 34183.15 | 32608.84 | 32491.24 | 33858.32 | 33854.40 |\n\n",
            "text/html": [
              "<table class=\"dataframe\">\n",
              "<caption>A data.frame: 6 × 24</caption>\n",
              "<thead>\n",
              "\t<tr><th></th><th scope=col>pred</th><th scope=col>pred.1</th><th scope=col>pred.2</th><th scope=col>pred.3</th><th scope=col>pred.4</th><th scope=col>pred.5</th><th scope=col>pred.6</th><th scope=col>pred.7</th><th scope=col>pred.8</th><th scope=col>pred.9</th><th scope=col>⋯</th><th scope=col>pred.14</th><th scope=col>pred.15</th><th scope=col>pred.16</th><th scope=col>pred.17</th><th scope=col>pred.18</th><th scope=col>pred.19</th><th scope=col>pred.20</th><th scope=col>pred.21</th><th scope=col>pred.22</th><th scope=col>pred.23</th></tr>\n",
              "\t<tr><th></th><th scope=col>&lt;dbl&gt;</th><th scope=col>&lt;dbl&gt;</th><th scope=col>&lt;dbl&gt;</th><th scope=col>&lt;dbl&gt;</th><th scope=col>&lt;dbl&gt;</th><th scope=col>&lt;dbl&gt;</th><th scope=col>&lt;dbl&gt;</th><th scope=col>&lt;dbl&gt;</th><th scope=col>&lt;dbl&gt;</th><th scope=col>&lt;dbl&gt;</th><th scope=col>⋯</th><th scope=col>&lt;dbl&gt;</th><th scope=col>&lt;dbl&gt;</th><th scope=col>&lt;dbl&gt;</th><th scope=col>&lt;dbl&gt;</th><th scope=col>&lt;dbl&gt;</th><th scope=col>&lt;dbl&gt;</th><th scope=col>&lt;dbl&gt;</th><th scope=col>&lt;dbl&gt;</th><th scope=col>&lt;dbl&gt;</th><th scope=col>&lt;dbl&gt;</th></tr>\n",
              "</thead>\n",
              "<tbody>\n",
              "\t<tr><th scope=row>1</th><td>22373.46</td><td>22647.39</td><td>22633.47</td><td>23233.51</td><td>21692.73</td><td>23753.09</td><td>22895.98</td><td>21050.73</td><td>25858.62</td><td>23361.70</td><td>⋯</td><td>25248.97</td><td>23596.73</td><td>22432.81</td><td>24065.30</td><td>27590.34</td><td>26982.23</td><td>24807.08</td><td>26026.86</td><td>27398.80</td><td>23791.09</td></tr>\n",
              "\t<tr><th scope=row>2</th><td>28657.80</td><td>28984.65</td><td>28940.17</td><td>30909.71</td><td>29770.57</td><td>29370.98</td><td>27169.62</td><td>26740.04</td><td>29163.89</td><td>28956.26</td><td>⋯</td><td>24065.65</td><td>24531.64</td><td>27517.14</td><td>24575.93</td><td>25536.29</td><td>25444.67</td><td>23637.69</td><td>28192.93</td><td>27371.12</td><td>26426.66</td></tr>\n",
              "\t<tr><th scope=row>3</th><td>29851.82</td><td>29747.29</td><td>29811.42</td><td>29236.57</td><td>28599.25</td><td>29794.67</td><td>27072.41</td><td>29095.46</td><td>28758.21</td><td>26016.64</td><td>⋯</td><td>24065.65</td><td>31583.69</td><td>24237.03</td><td>22293.97</td><td>28234.28</td><td>30181.79</td><td>25561.52</td><td>29234.94</td><td>27371.12</td><td>26426.66</td></tr>\n",
              "\t<tr><th scope=row>4</th><td>22373.46</td><td>22078.68</td><td>22580.24</td><td>22237.38</td><td>21692.73</td><td>21117.59</td><td>22895.98</td><td>21050.73</td><td>22101.13</td><td>20946.65</td><td>⋯</td><td>22474.20</td><td>21132.49</td><td>21872.00</td><td>23413.95</td><td>31516.49</td><td>22415.94</td><td>22124.68</td><td>28657.51</td><td>23748.63</td><td>27192.05</td></tr>\n",
              "\t<tr><th scope=row>5</th><td>28657.80</td><td>28984.65</td><td>29132.69</td><td>30484.32</td><td>31371.67</td><td>29370.98</td><td>29393.53</td><td>32065.54</td><td>32274.28</td><td>32714.15</td><td>⋯</td><td>31419.49</td><td>32056.57</td><td>31783.13</td><td>29879.05</td><td>33306.02</td><td>34604.17</td><td>32460.73</td><td>34092.77</td><td>33515.99</td><td>32828.67</td></tr>\n",
              "\t<tr><th scope=row>6</th><td>36264.22</td><td>36197.57</td><td>36052.05</td><td>35329.98</td><td>34747.57</td><td>36251.69</td><td>35398.97</td><td>35292.68</td><td>35108.92</td><td>35516.08</td><td>⋯</td><td>27029.45</td><td>34922.09</td><td>36106.65</td><td>33794.97</td><td>33441.44</td><td>34183.15</td><td>32608.84</td><td>32491.24</td><td>33858.32</td><td>33854.40</td></tr>\n",
              "</tbody>\n",
              "</table>\n"
            ]
          },
          "metadata": {
            "tags": []
          }
        }
      ]
    },
    {
      "cell_type": "code",
      "metadata": {
        "colab": {
          "base_uri": "https://localhost:8080/",
          "height": 33
        },
        "id": "j_9XNVzUTuhs",
        "outputId": "0262117e-54ff-425f-c413-b3c750d41910"
      },
      "source": [
        "mean(c(347.1508, 472.2895, 695.5578, 717.8883, 842.6955, 950.268, 948.4617, 1094.788, 1072.53, 1199.613, 1352.65, 1247.618, 1247.44, 1305.729, 1369.781, 1431.292, 1459.37, 1428.817, 1459.114, 1449.247, 1490.871, 1588.332, 1634.699, 1624.99))"
      ],
      "execution_count": null,
      "outputs": [
        {
          "output_type": "display_data",
          "data": {
            "text/plain": [
              "[1] 1184.633"
            ],
            "text/latex": "1184.633025",
            "text/markdown": "1184.633025",
            "text/html": [
              "1184.633025"
            ]
          },
          "metadata": {
            "tags": []
          }
        }
      ]
    }
  ]
}